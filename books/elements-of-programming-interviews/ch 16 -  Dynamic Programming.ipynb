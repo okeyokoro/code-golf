{
 "cells": [
  {
   "cell_type": "markdown",
   "metadata": {},
   "source": [
    "## BOOTCAMP"
   ]
  },
  {
   "cell_type": "markdown",
   "metadata": {},
   "source": [
    "### BOOTCAMP QUESTION 1"
   ]
  },
  {
   "cell_type": "code",
   "execution_count": 1,
   "metadata": {},
   "outputs": [],
   "source": [
    "def fib(n):\n",
    "    \"\"\"\n",
    "        This program iteratively fills in the cache in a bottom-up fashion,\n",
    "        which allows it to reuse cache storage to reduce the space complexity\n",
    "        of the cache.\n",
    "    \"\"\"\n",
    "    if n <= 1:\n",
    "        return n\n",
    "    \n",
    "    f_minus_1, f_minus_2 = 1, 0\n",
    "    for _ in range(1, n):\n",
    "        f = f_minus_1 + f_minus_2\n",
    "        f_minus_1, f_minus_2 = f, f_minus_1\n",
    "    \n",
    "    return f_minus_1"
   ]
  },
  {
   "cell_type": "markdown",
   "metadata": {},
   "source": [
    "#### TESTING"
   ]
  },
  {
   "cell_type": "code",
   "execution_count": 2,
   "metadata": {},
   "outputs": [
    {
     "data": {
      "text/plain": [
       "1"
      ]
     },
     "execution_count": 2,
     "metadata": {},
     "output_type": "execute_result"
    }
   ],
   "source": [
    "fib(1)"
   ]
  },
  {
   "cell_type": "code",
   "execution_count": 3,
   "metadata": {},
   "outputs": [
    {
     "data": {
      "text/plain": [
       "5"
      ]
     },
     "execution_count": 3,
     "metadata": {},
     "output_type": "execute_result"
    }
   ],
   "source": [
    "fib(5)"
   ]
  },
  {
   "cell_type": "code",
   "execution_count": 4,
   "metadata": {},
   "outputs": [
    {
     "data": {
      "text/plain": [
       "8"
      ]
     },
     "execution_count": 4,
     "metadata": {},
     "output_type": "execute_result"
    }
   ],
   "source": [
    "fib(6)"
   ]
  },
  {
   "cell_type": "markdown",
   "metadata": {},
   "source": [
    "### BOOTCAMP QUESTION 2"
   ]
  },
  {
   "cell_type": "code",
   "execution_count": 3,
   "metadata": {},
   "outputs": [],
   "source": [
    "def find_minimum_subarray(A):\n",
    "    \"\"\"\n",
    "        [904, 40, 523, 12, -335, -385, -124, 481, -31]\n",
    "    \"\"\"\n",
    "    \n",
    "    max_sum = min_sum = 0\n",
    "    \n",
    "    # see https://docs.python.org/3/library/itertools.html\n",
    "    for running_sum in itertools.accumulate(A):\n",
    "        # we need the min_sum to know when we dip below\n",
    "        # the previous running_sum.\n",
    "        # min_sum <= 0\n",
    "        min_sum = min(min_sum, running_sum)\n",
    "        # we are actually looking for the max_sum.\n",
    "        # we can do (running_sum - min_sum)\n",
    "        # because min_sum <= 0\n",
    "        max_sum = max(max_sum, running_sum - min_sum)\n",
    "    return max_sum"
   ]
  },
  {
   "cell_type": "code",
   "execution_count": null,
   "metadata": {},
   "outputs": [],
   "source": []
  }
 ],
 "metadata": {
  "kernelspec": {
   "display_name": "Python 3",
   "language": "python",
   "name": "python3"
  },
  "language_info": {
   "codemirror_mode": {
    "name": "ipython",
    "version": 3
   },
   "file_extension": ".py",
   "mimetype": "text/x-python",
   "name": "python",
   "nbconvert_exporter": "python",
   "pygments_lexer": "ipython3",
   "version": "3.7.3"
  }
 },
 "nbformat": 4,
 "nbformat_minor": 2
}
