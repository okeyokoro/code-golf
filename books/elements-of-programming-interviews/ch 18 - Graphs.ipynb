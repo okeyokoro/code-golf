{
 "cells": [
  {
   "cell_type": "markdown",
   "metadata": {},
   "source": [
    "## PROBLEM 18.2 - PAINT A BOOLEAN MATRIX\n",
    "\n",
    "Let A be a Boolean 2D anay encoding a black-and-white image. The entry A(a,b) can be viewed as encoding the color at entry (a,b). Call two entries adjacent if one is to the left, right, above or below the other. Note that the definition implies that an entry can be adjacent to at most four other entries, and that adjacency is symmetric, i.e., if e0 is adjacent to entry e1, then e1 is adjacent to e0.\n",
    "\n",
    "Define a path from entry e0 to entry e1 to be a sequence of adjacent entries, starting at e0, ending at e1, with successive entries being adjacent.\n",
    "\n",
    "Define the region associated with a point (1, fl to be all points (l',7') such that there exists a path from (i, j) to (i' , j') n which all entries are the same color.\n",
    "\n",
    "Implement a routine that takes an n x m Boolean anay A together with an entry (r, g) ana flips the color of the region associated with (x, y)."
   ]
  },
  {
   "cell_type": "markdown",
   "metadata": {},
   "source": [
    "### INTERPRETATION\n",
    "\n",
    "For the current problem, we are searching for all vertices whose color is the same as that of (x,y) that are reachable from (x,y). **Breadth-first search is natural when starting with a set of vertices.**\n",
    "\n",
    "Specifically, we can use a queue to store such vertices. The queue is initialized to (x,y). The queue is popped iteratively.\n",
    "\n",
    "- Call the popped point p.\n",
    "- First, we record p's initial color,\n",
    "- and then flip its color.\n",
    "- Next we examine p neighbors. Any neighbor which is the same color as p's initial color is added to the queue.\n",
    "\n",
    "The computation ends when the queue is empty.\n",
    "\n",
    "Correctness follows from the fact that any point that is added to the queue is reachable from (r, y) via a path consisting of points of the same colot, and all points reachable from (r, y) via points of the same color will eventually be added to the queue.\n",
    "\n",
    "### SUMMARY\n",
    "\n",
    "Flip the color of all the _REACHABLE_ points that share the same color as the starting point"
   ]
  },
  {
   "cell_type": "markdown",
   "metadata": {},
   "source": [
    "#### SOLUTION 1 - BFS "
   ]
  },
  {
   "cell_type": "code",
   "execution_count": 7,
   "metadata": {},
   "outputs": [],
   "source": [
    "import collections\n",
    "from pandas import DataFrame\n",
    "\n",
    "\n",
    "def flip_pixels(matrix, row, col):\n",
    "    \"\"\"\n",
    "        Flip the color of all REACHABLE points that share the same color\n",
    "        as the starting point\n",
    "        \n",
    "        matrix  2D Array\n",
    "                This is just a 2D Boolean Array\n",
    "                Each 1,0 represents the colors: white, black\n",
    "        \n",
    "        row     int\n",
    "                This is the row of the starting cell\n",
    "                \n",
    "        col     col\n",
    "                This is the column of the starting cell\n",
    "    \"\"\"\n",
    "    print(\"START:\")\n",
    "    print(DataFrame(matrix))\n",
    "    print(\"\")\n",
    "    \n",
    "    Cell = collections.namedtuple(\"Cell\", ['row', 'col'])\n",
    "    \n",
    "    start = Cell(row, col)\n",
    "\n",
    "    color = matrix[start.row][start.col]\n",
    "    \n",
    "    # flip the color: mark the cell as visited\n",
    "    matrix[start.row][start.col] = 1 - matrix[start.row][start.col]\n",
    "    \n",
    "    # we put this in the deque so we can use it to get to its neighbors\n",
    "    q = collections.deque([start])\n",
    "    \n",
    "    # enumerate all REACHABLE cells\n",
    "    while q:\n",
    "\n",
    "        up, down, right, left = ( Cell(1, 0), Cell(-1, 0), Cell(0, 1), Cell(0, -1) )\n",
    "        \n",
    "        for direction in [up, down, right, left]:\n",
    "            neighbor = Cell( q[0].row + direction.row,\n",
    "                             q[0].col + direction.col )\n",
    "            \n",
    "            if (0 <= neighbor.row < len(matrix)\n",
    "                and 0 <= neighbor.col < len(matrix[0])\n",
    "                and matrix[neighbor.row][neighbor.col] == color):\n",
    "                \n",
    "                # flip it\n",
    "                matrix[neighbor.row][neighbor.col] = 1 - matrix[neighbor.row][neighbor.col]\n",
    "                q.append(neighbor)\n",
    "        \n",
    "        # pop the first item in the deque; cuz we've already dealt with it & its neighbors\n",
    "        q.popleft()\n",
    "\n",
    "    print(\"END:\")\n",
    "    print(DataFrame(matrix))"
   ]
  },
  {
   "cell_type": "markdown",
   "metadata": {},
   "source": [
    "#### TEST\n",
    "\n",
    "The matrix below is a representation of **Figure 18.6 (a)** "
   ]
  },
  {
   "cell_type": "code",
   "execution_count": 10,
   "metadata": {},
   "outputs": [
    {
     "name": "stdout",
     "output_type": "stream",
     "text": [
      "START:\n",
      "   0  1  2  3  4  5  6  7  8  9\n",
      "0  1  0  1  0  0  0  1  1  1  1\n",
      "1  0  0  1  0  0  1  0  0  1  1\n",
      "2  1  1  1  0  0  1  1  0  1  1\n",
      "3  0  1  0  1  1  1  1  0  1  0\n",
      "4  1  0  1  0  0  0  0  1  0  0\n",
      "5  1  0  1  0  0  1  0  1  1  1\n",
      "6  0  0  0  0  1  0  1  0  0  1\n",
      "7  1  0  1  0  1  0  1  0  0  0\n",
      "8  1  0  1  1  0  0  0  1  1  1\n",
      "9  0  0  0  0  0  0  0  1  1  0\n",
      "\n",
      "END:\n",
      "   0  1  2  3  4  5  6  7  8  9\n",
      "0  1  0  1  0  0  0  1  1  1  1\n",
      "1  0  0  1  0  0  1  0  0  1  1\n",
      "2  1  1  1  0  0  1  1  0  1  1\n",
      "3  0  1  0  1  1  1  1  0  1  0\n",
      "4  1  1  1  1  1  1  1  1  0  0\n",
      "5  1  1  1  1  1  1  1  1  1  1\n",
      "6  1  1  1  1  1  1  1  0  0  1\n",
      "7  1  1  1  1  1  1  1  0  0  0\n",
      "8  1  1  1  1  1  1  1  1  1  1\n",
      "9  1  1  1  1  1  1  1  1  1  0\n"
     ]
    }
   ],
   "source": [
    "matrix = [\n",
    "    [1,0,1,0,0,0,1,1,1,1],\n",
    "    [0,0,1,0,0,1,0,0,1,1],\n",
    "    [1,1,1,0,0,1,1,0,1,1],\n",
    "    [0,1,0,1,1,1,1,0,1,0],\n",
    "    [1,0,1,0,0,0,0,1,0,0],\n",
    "    [1,0,1,0,0,1,0,1,1,1],\n",
    "    [0,0,0,0,1,0,1,0,0,1],\n",
    "    [1,0,1,0,1,0,1,0,0,0],\n",
    "    [1,0,1,1,0,0,0,1,1,1],\n",
    "    [0,0,0,0,0,0,0,1,1,0],\n",
    "]\n",
    "\n",
    "flip_pixels(matrix, 5, 4)"
   ]
  },
  {
   "cell_type": "markdown",
   "metadata": {},
   "source": [
    "**ALL TESTS PASSED**"
   ]
  },
  {
   "cell_type": "markdown",
   "metadata": {},
   "source": [
    "#### SOLUTION 2 - DFS"
   ]
  },
  {
   "cell_type": "code",
   "execution_count": 16,
   "metadata": {},
   "outputs": [],
   "source": [
    "def flip_pixels(matrix, row, col):\n",
    "    color = matrix[row][col]\n",
    "    \n",
    "    # flip the color\n",
    "    matrix[row][col] = 1 - matrix[row][col]\n",
    "    \n",
    "    # a DFS will keep going down a path till it reaches a block. Then it'll bubble up\n",
    "    up, down, right, left = ( (1, 0), (-1, 0), (0, 1), (0, -1) )\n",
    "    \n",
    "    for d in [up, down, right, left]:\n",
    "        next_row, next_col = row + d[0], col + d[1]\n",
    "        \n",
    "        if (0 <= next_row < len(matrix)\n",
    "            and 0 <= next_col < len(matrix[0])\n",
    "            and matrix[next_row][next_col] == color):\n",
    "            return False\n",
    "    \n",
    "        flip_pixels(matrix, next_row, next_col)"
   ]
  },
  {
   "cell_type": "code",
   "execution_count": null,
   "metadata": {},
   "outputs": [],
   "source": []
  },
  {
   "cell_type": "code",
   "execution_count": null,
   "metadata": {},
   "outputs": [],
   "source": []
  }
 ],
 "metadata": {
  "kernelspec": {
   "display_name": "Python 3",
   "language": "python",
   "name": "python3"
  },
  "language_info": {
   "codemirror_mode": {
    "name": "ipython",
    "version": 3
   },
   "file_extension": ".py",
   "mimetype": "text/x-python",
   "name": "python",
   "nbconvert_exporter": "python",
   "pygments_lexer": "ipython3",
   "version": "3.7.3"
  }
 },
 "nbformat": 4,
 "nbformat_minor": 2
}
