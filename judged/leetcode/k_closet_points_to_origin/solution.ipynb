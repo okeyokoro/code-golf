{
 "cells": [
  {
   "cell_type": "code",
   "execution_count": 62,
   "metadata": {},
   "outputs": [],
   "source": [
    "from math import sqrt"
   ]
  },
  {
   "cell_type": "code",
   "execution_count": 63,
   "metadata": {},
   "outputs": [],
   "source": [
    "def calculate_distance(p1, p2):\n",
    "    return sqrt((p2[0] - p1[0])**2\n",
    "                + (p2[1] - p1[1])**2)"
   ]
  },
  {
   "cell_type": "code",
   "execution_count": 64,
   "metadata": {},
   "outputs": [],
   "source": [
    "def quickselect():\n",
    "    pass"
   ]
  },
  {
   "cell_type": "code",
   "execution_count": 65,
   "metadata": {},
   "outputs": [],
   "source": [
    "class MaxHeap():\n",
    "    def __init__(self, mx=float(\"inf\")):\n",
    "        self.heap = []\n",
    "        self.max = mx\n",
    "\n",
    "    @property\n",
    "    def head(self):\n",
    "        if self.heap:\n",
    "            return self.heap[0]\n",
    "        return None\n",
    "\n",
    "    @property\n",
    "    def size(self):\n",
    "        return len(self.heap)\n",
    "\n",
    "    # log(n)\n",
    "    def decide(self, pair):\n",
    "        \"\"\" try to lower the maximum,\n",
    "            evict the maximum on every call\n",
    "        \"\"\"\n",
    "\n",
    "        print(f\"heap: {self.heap}\")\n",
    "        print(\" \")\n",
    "        print(f\"num:  {pair}\")\n",
    "        print(f\"-----\")\n",
    "\n",
    "        if self.size < self.max:\n",
    "            self.insert(pair)\n",
    "            return\n",
    "\n",
    "        if pair[0] >= self.head[0]:\n",
    "            return\n",
    "\n",
    "        # swap the max with this new element\n",
    "        self.heap[0] = pair\n",
    "        self.bubble_down()\n",
    "    \n",
    "\n",
    "    def swap(self, a, b):\n",
    "        self.heap[a], self.heap[b] = self.heap[b], self.heap[a]\n",
    "\n",
    "    def get_parent_idx(self, idx):\n",
    "        return (idx-1)//2\n",
    "\n",
    "    def get_first_child_idx(self, idx):\n",
    "        return idx*2+1\n",
    "\n",
    "    def get_second_child_idx(self, idx):\n",
    "        return idx*2+2 if idx*2+2 <= self.size-1 else -1\n",
    "\n",
    "    # log(n)\n",
    "    def insert(self, element):\n",
    "        self.heap.append(element)\n",
    "        self.bubble_up()\n",
    "\n",
    "    # log(n)\n",
    "    def bubble_up(self):\n",
    "        \"\"\" take the tail element to it's rightful place \"\"\"\n",
    "        idx = self.size-1\n",
    "        pidx = self.get_parent_idx(idx)\n",
    "\n",
    "        while pidx >= 0:\n",
    "        \n",
    "            child_is_greater_than_parent = self.heap[idx][0] > self.heap[pidx][0]\n",
    "            if child_is_greater_than_parent:\n",
    "                self.swap(idx, pidx)\n",
    "                idx = pidx\n",
    "                pidx = self.get_parent_idx(idx)\n",
    "                continue\n",
    "\n",
    "            return\n",
    "        \n",
    "    # log(n)\n",
    "    def bubble_down(self):\n",
    "        \"\"\" take the head element to it's rightful place \"\"\"\n",
    "        idx = 0\n",
    "        c1_idx = self.get_first_child_idx(idx)\n",
    "        print(f\"c1_idx: {c1_idx}\")\n",
    "\n",
    "        while c1_idx <= self.size-1:\n",
    "\n",
    "            c2_idx = self.get_second_child_idx(idx)\n",
    "            print(f\"c2_idx: {c2_idx}\")\n",
    "\n",
    "            # select which child to swap\n",
    "            # ^ pick the greater child\n",
    "            if c2_idx > 0 and self.heap[c2_idx][0] > self.heap[c1_idx][0]:\n",
    "                idx_to_swap = c2_idx\n",
    "            else:\n",
    "                idx_to_swap = c1_idx\n",
    "\n",
    "            child_is_greater_than_parent = self.heap[idx_to_swap][0] > self.heap[idx][0]\n",
    "            if child_is_greater_than_parent:\n",
    "                self.swap(idx, idx_to_swap)\n",
    "                idx = idx_to_swap\n",
    "                c1_idx = self.get_first_child_idx(idx)\n",
    "                continue\n",
    "\n",
    "            return"
   ]
  },
  {
   "cell_type": "code",
   "execution_count": 58,
   "metadata": {},
   "outputs": [],
   "source": [
    "def kClosest(points, k_closest, vertex=[0,0]):\n",
    "    h = MaxHeap(k_closest)\n",
    "\n",
    "    for point in points:\n",
    "        t = [calculate_distance(point, vertex), point]\n",
    "        h.decide(t)\n",
    "        \n",
    "    print(h.heap)\n",
    "\n",
    "    return [ i[1] for i in h.heap ]\n",
    "\n",
    "    # we don't need to sort the full array\n",
    "    # since we only need the k smallest\n",
    "\n",
    "    # time-complexity: O(Nlogk)\n",
    "\n",
    "    # space complexity: O(k)"
   ]
  },
  {
   "cell_type": "code",
   "execution_count": 59,
   "metadata": {},
   "outputs": [
    {
     "name": "stdout",
     "output_type": "stream",
     "text": [
      "heap: []\n",
      " \n",
      "num:  [4.242640687119285, [3, 3]]\n",
      "-----\n",
      "heap: [[4.242640687119285, [3, 3]]]\n",
      " \n",
      "num:  [5.0990195135927845, [5, -1]]\n",
      "-----\n",
      "heap: [[5.0990195135927845, [5, -1]], [4.242640687119285, [3, 3]]]\n",
      " \n",
      "num:  [4.47213595499958, [-2, 4]]\n",
      "-----\n",
      "c1_idx: 1\n",
      "c2_idx: -1\n",
      "[[4.47213595499958, [-2, 4]], [4.242640687119285, [3, 3]]]\n"
     ]
    },
    {
     "data": {
      "text/plain": [
       "[[-2, 4], [3, 3]]"
      ]
     },
     "execution_count": 59,
     "metadata": {},
     "output_type": "execute_result"
    }
   ],
   "source": [
    "kClosest(\n",
    "    [[3,3],[5,-1],[-2,4]],\n",
    "    2\n",
    ")"
   ]
  },
  {
   "cell_type": "code",
   "execution_count": 60,
   "metadata": {},
   "outputs": [
    {
     "name": "stdout",
     "output_type": "stream",
     "text": [
      "heap: []\n",
      " \n",
      "num:  [3.1622776601683795, [1, 3]]\n",
      "-----\n",
      "heap: [[3.1622776601683795, [1, 3]]]\n",
      " \n",
      "num:  [2.8284271247461903, [-2, 2]]\n",
      "-----\n",
      "c1_idx: 1\n",
      "[[2.8284271247461903, [-2, 2]]]\n"
     ]
    },
    {
     "data": {
      "text/plain": [
       "[[-2, 2]]"
      ]
     },
     "execution_count": 60,
     "metadata": {},
     "output_type": "execute_result"
    }
   ],
   "source": [
    "kClosest(\n",
    "    [[1,3],[-2,2]],\n",
    "    1\n",
    ")"
   ]
  },
  {
   "cell_type": "code",
   "execution_count": 61,
   "metadata": {},
   "outputs": [
    {
     "name": "stdout",
     "output_type": "stream",
     "text": [
      "heap: []\n",
      " \n",
      "num:  [118.46096403457132, [68, 97]]\n",
      "-----\n",
      "heap: [[118.46096403457132, [68, 97]]]\n",
      " \n",
      "num:  [90.62008607367353, [34, -84]]\n",
      "-----\n",
      "heap: [[118.46096403457132, [68, 97]], [90.62008607367353, [34, -84]]]\n",
      " \n",
      "num:  [116.61903789690601, [60, 100]]\n",
      "-----\n",
      "heap: [[118.46096403457132, [68, 97]], [90.62008607367353, [34, -84]], [116.61903789690601, [60, 100]]]\n",
      " \n",
      "num:  [31.064449134018133, [2, 31]]\n",
      "-----\n",
      "heap: [[118.46096403457132, [68, 97]], [90.62008607367353, [34, -84]], [116.61903789690601, [60, 100]], [31.064449134018133, [2, 31]]]\n",
      " \n",
      "num:  [46.61544808322666, [-27, -38]]\n",
      "-----\n",
      "heap: [[118.46096403457132, [68, 97]], [90.62008607367353, [34, -84]], [116.61903789690601, [60, 100]], [31.064449134018133, [2, 31]], [46.61544808322666, [-27, -38]]]\n",
      " \n",
      "num:  [103.9471019317037, [-73, -74]]\n",
      "-----\n",
      "c1_idx: 1\n",
      "c2_idx: 2\n",
      "heap: [[116.61903789690601, [60, 100]], [90.62008607367353, [34, -84]], [103.9471019317037, [-73, -74]], [31.064449134018133, [2, 31]], [46.61544808322666, [-27, -38]]]\n",
      " \n",
      "num:  [67.42403132415029, [-55, -39]]\n",
      "-----\n",
      "c1_idx: 1\n",
      "c2_idx: 2\n",
      "heap: [[103.9471019317037, [-73, -74]], [90.62008607367353, [34, -84]], [67.42403132415029, [-55, -39]], [31.064449134018133, [2, 31]], [46.61544808322666, [-27, -38]]]\n",
      " \n",
      "num:  [110.11357772772621, [62, 91]]\n",
      "-----\n",
      "heap: [[103.9471019317037, [-73, -74]], [90.62008607367353, [34, -84]], [67.42403132415029, [-55, -39]], [31.064449134018133, [2, 31]], [46.61544808322666, [-27, -38]]]\n",
      " \n",
      "num:  [110.9414259868693, [62, 92]]\n",
      "-----\n",
      "heap: [[103.9471019317037, [-73, -74]], [90.62008607367353, [34, -84]], [67.42403132415029, [-55, -39]], [31.064449134018133, [2, 31]], [46.61544808322666, [-27, -38]]]\n",
      " \n",
      "num:  [87.96590248499699, [-57, -67]]\n",
      "-----\n",
      "c1_idx: 1\n",
      "c2_idx: 2\n",
      "c2_idx: 4\n",
      "[[90.62008607367353, [34, -84]], [87.96590248499699, [-57, -67]], [67.42403132415029, [-55, -39]], [31.064449134018133, [2, 31]], [46.61544808322666, [-27, -38]]]\n"
     ]
    },
    {
     "data": {
      "text/plain": [
       "[[34, -84], [-57, -67], [-55, -39], [2, 31], [-27, -38]]"
      ]
     },
     "execution_count": 61,
     "metadata": {},
     "output_type": "execute_result"
    }
   ],
   "source": [
    "kClosest(\n",
    "    [[68,97],[34,-84],[60,100],[2,31],[-27,-38],[-73,-74],[-55,-39],[62,91],[62,92],[-57,-67]],\n",
    "    5\n",
    ")"
   ]
  },
  {
   "cell_type": "code",
   "execution_count": null,
   "metadata": {},
   "outputs": [],
   "source": []
  },
  {
   "cell_type": "code",
   "execution_count": null,
   "metadata": {},
   "outputs": [],
   "source": []
  },
  {
   "cell_type": "code",
   "execution_count": null,
   "metadata": {},
   "outputs": [],
   "source": []
  },
  {
   "cell_type": "code",
   "execution_count": null,
   "metadata": {},
   "outputs": [],
   "source": []
  }
 ],
 "metadata": {
  "kernelspec": {
   "display_name": "Python 3",
   "language": "python",
   "name": "python3"
  },
  "language_info": {
   "codemirror_mode": {
    "name": "ipython",
    "version": 3
   },
   "file_extension": ".py",
   "mimetype": "text/x-python",
   "name": "python",
   "nbconvert_exporter": "python",
   "pygments_lexer": "ipython3",
   "version": "3.7.3"
  }
 },
 "nbformat": 4,
 "nbformat_minor": 4
}
