{
 "cells": [
  {
   "cell_type": "markdown",
   "metadata": {},
   "source": [
    "## Find the Access Codes\n",
    "\n",
    "Time to solve: 96 hours.\n",
    "\n",
    "### Description\n",
    "\n",
    "In order to destroy Commander Lambda's LAMBCHOP doomsday device, you'll need access to it. But the only door leading to the LAMBCHOP chamber is secured with a unique lock system whose number of passcodes changes daily. Commander Lambda gets a report every day that includes the locks' access codes, but only she knows how to figure out which of several lists contains the access codes. You need to find a way to determine which list contains the access codes once you're ready to go in.\n",
    "\n",
    "Fortunately, now that you're Commander Lambda's personal assistant, she's confided to you that she made all the access codes \"lucky triples\" in order to help her better find them in the lists. A \"lucky triple\" is a tuple (x, y, z) where x divides y and y divides z, such as (1, 2, 4). With that information, you can figure out which list contains the number of access codes that matches the number of locks on the door when you're ready to go in (for example, if there's 5 passcodes, you'd need to find a list with 5 \"lucky triple\" access codes).\n",
    "\n",
    "Write a function answer(l) that takes a list of positive integers l and counts the number of \"lucky triples\" of (lst[i], lst[j], lst[k]) where i < j < k.  The length of l is between 2 and 2000 inclusive.  The elements of l are between 1 and 999999 inclusive.  The answer fits within a signed 32-bit integer. Some of the lists are purposely generated without any access codes to throw off spies, so if no triples are found, return 0.\n",
    "\n",
    "For example, [1, 2, 3, 4, 5, 6] has the triples: [1, 2, 4], [1, 2, 6], [1, 3, 6], making the answer 3 total.\n",
    "\n",
    "### Languages\n",
    "\n",
    "To provide a Python solution, edit solution.py\n",
    "\n",
    "To provide a Java solution, edit solution.java\n",
    "\n",
    "### Test Cases\n",
    "\n",
    "#### Test Case 1\n",
    "\n",
    "Inputs:\n",
    "```\n",
    "(int list) l = [1, 1, 1]\n",
    "```\n",
    "Output:\n",
    "```\n",
    "(int) 1\n",
    "```\n",
    "\n",
    "#### Test Case 2\n",
    "\n",
    "Inputs:\n",
    "```\n",
    "(int list) l = [1, 2, 3, 4, 5, 6]\n",
    "```\n",
    "Output:\n",
    "```\n",
    "(int) 3\n",
    "```\n",
    "\n",
    "### Constraints\n",
    "\n",
    "#### Java\n",
    "\n",
    "Your code will be compiled using standard Java 7. It must implement the answer() method in the solution stub.\n",
    "\n",
    "Execution time is limited. Some classes are restricted (e.g. java.lang.ClassLoader). You will see a notice if you use a restricted class when you verify your solution.\n",
    "\n",
    "Third-party libraries, input/output operations, spawning threads or processes and changes to the execution environment are not allowed.\n",
    "\n",
    "#### Python\n",
    "\n",
    "Your code will run inside a Python 2.7.6 sandbox.\n",
    "\n",
    "Standard libraries are supported except for bz2, crypt, fcntl, mmap, pwd, pyexpat, select, signal, termios, thread, time, unicodedata, zipimport, zlib.\n"
   ]
  },
  {
   "cell_type": "code",
   "execution_count": 1,
   "metadata": {},
   "outputs": [],
   "source": [
    "# lucky triplets"
   ]
  },
  {
   "cell_type": "code",
   "execution_count": null,
   "metadata": {},
   "outputs": [],
   "source": []
  }
 ],
 "metadata": {
  "kernelspec": {
   "display_name": "Python 3",
   "language": "python",
   "name": "python3"
  },
  "language_info": {
   "codemirror_mode": {
    "name": "ipython",
    "version": 3
   },
   "file_extension": ".py",
   "mimetype": "text/x-python",
   "name": "python",
   "nbconvert_exporter": "python",
   "pygments_lexer": "ipython3",
   "version": "3.7.3"
  }
 },
 "nbformat": 4,
 "nbformat_minor": 2
}
