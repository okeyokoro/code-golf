{
 "cells": [
  {
   "cell_type": "markdown",
   "metadata": {},
   "source": [
    "I Love Lance & Janice\n",
    "=====================\n",
    "\n",
    "You've caught two of your fellow minions passing coded notes back and forth - while they're on duty, no less! Worse, you're pretty sure it's not job-related - they're both huge fans of the space soap opera \"Lance & Janice\". You know how much Commander Lambda hates waste, so if you can prove that these minions are wasting her time passing non-job-related notes, it'll put you that much closer to a promotion. \n",
    "\n",
    "Fortunately for you, the minions aren't exactly advanced cryptographers. In their code, every lowercase letter [a..z] is replaced with the corresponding one in [z..a], while every other character (including uppercase letters and punctuation) is left untouched.  That is, 'a' becomes 'z', 'b' becomes 'y', 'c' becomes 'x', etc.  For instance, the word \"vmxibkgrlm\", when decoded, would become \"encryption\".\n",
    "\n",
    "Write a function called answer(s) which takes in a string and returns the deciphered string so you can show the commander proof that these minions are talking about \"Lance & Janice\" instead of doing their jobs.\n",
    "\n",
    "\n",
    "Languages\n",
    "=========\n",
    "\n",
    "To provide a Python solution, edit solution.py\n",
    "To provide a Java solution, edit solution.java\n",
    "\n",
    "Test cases\n",
    "==========\n",
    "\n",
    "Inputs:\n",
    "    (string) s = \"wrw blf hvv ozhg mrtsg'h vkrhlwv?\"\n",
    "Output:\n",
    "    (string) \"did you see last night's episode?\"\n",
    "\n",
    "Inputs:\n",
    "    (string) s = \"Yvzs! I xzm'g yvorvev Lzmxv olhg srh qly zg gsv xlolmb!!\"\n",
    "Output:\n",
    "    (string) \"Yeah! I can't believe Lance lost his job at the colony!!\"\n",
    "\n",
    "Use verify [file] to test your solution and see how it does. When you are finished editing your code, use submit [file] to submit your answer. If your solution passes the test cases, it will be removed from your home folder.\n"
   ]
  },
  {
   "cell_type": "code",
   "execution_count": 1,
   "metadata": {},
   "outputs": [],
   "source": [
    "import string\n",
    "\n",
    "\n",
    "def answer(s):\n",
    "    hash = {}\n",
    "    for a, b in zip(list(string.ascii_lowercase), list(string.ascii_lowercase)[::-1]):\n",
    "        hash[a] = b\n",
    "    ans = []\n",
    "    for char in s:\n",
    "        if hash.get(char, None):\n",
    "            ans.append(hash[char])\n",
    "        else:\n",
    "            ans.append(char)\n",
    "    print(\"\".join(ans))"
   ]
  },
  {
   "cell_type": "code",
   "execution_count": 2,
   "metadata": {},
   "outputs": [
    {
     "name": "stdout",
     "output_type": "stream",
     "text": [
      "Yeah! I can't believe Lance lost his job at the colony!!\n"
     ]
    }
   ],
   "source": [
    "answer(\"Yvzs! I xzm'g yvorvev Lzmxv olhg srh qly zg gsv xlolmb!!\")"
   ]
  },
  {
   "cell_type": "code",
   "execution_count": 3,
   "metadata": {},
   "outputs": [
    {
     "name": "stdout",
     "output_type": "stream",
     "text": [
      "did you see last night's episode?\n"
     ]
    }
   ],
   "source": [
    "answer(\"wrw blf hvv ozhg mrtsg'h vkrhlwv?\")"
   ]
  },
  {
   "cell_type": "code",
   "execution_count": null,
   "metadata": {},
   "outputs": [],
   "source": []
  }
 ],
 "metadata": {
  "kernelspec": {
   "display_name": "Python 3",
   "language": "python",
   "name": "python3"
  },
  "language_info": {
   "codemirror_mode": {
    "name": "ipython",
    "version": 3
   },
   "file_extension": ".py",
   "mimetype": "text/x-python",
   "name": "python",
   "nbconvert_exporter": "python",
   "pygments_lexer": "ipython3",
   "version": "3.7.3"
  }
 },
 "nbformat": 4,
 "nbformat_minor": 2
}
