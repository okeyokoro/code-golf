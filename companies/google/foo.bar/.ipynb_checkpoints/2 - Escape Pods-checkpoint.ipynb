{
 "cells": [
  {
   "cell_type": "markdown",
   "metadata": {},
   "source": [
    "Escape Pods\n",
    "===========\n",
    "\n",
    "You've blown up the LAMBCHOP doomsday device and broken the bunnies out of Lambda's prison - and now you need to escape from the space station as quickly and as orderly as possible! The bunnies have all gathered in various locations throughout the station, and need to make their way towards the seemingly endless amount of escape pods positioned in other parts of the station. You need to get the numerous bunnies through the various rooms to the escape pods. Unfortunately, the corridors between the rooms can only fit so many bunnies at a time. What's more, many of the corridors were resized to accommodate the LAMBCHOP, so they vary in how many bunnies can move through them at a time. \n",
    "\n",
    "Given the starting room numbers of the groups of bunnies, the room numbers of the escape pods, and how many bunnies can fit through at a time in each direction of every corridor in between, figure out how many bunnies can safely make it to the escape pods at a time at peak.\n",
    "\n",
    "Write a function answer(entrances, exits, path) that takes an array of integers denoting where the groups of gathered bunnies are, an array of integers denoting where the escape pods are located, and an array of an array of integers of the corridors, returning the total number of bunnies that can get through at each time step as an int. The entrances and exits are disjoint and thus will never overlap. The path element path[A][B] = C describes that the corridor going from A to B can fit C bunnies at each time step.  There are at most 50 rooms connected by the corridors and at most 2000000 bunnies that will fit at a time.\n",
    "\n",
    "For example, if you have:\n",
    "entrances = [0, 1]\n",
    "exits = [4, 5]\n",
    "path = [\n",
    "  [0, 0, 4, 6, 0, 0],  # Room 0: Bunnies\n",
    "  [0, 0, 5, 2, 0, 0],  # Room 1: Bunnies\n",
    "  [0, 0, 0, 0, 4, 4],  # Room 2: Intermediate room\n",
    "  [0, 0, 0, 0, 6, 6],  # Room 3: Intermediate room\n",
    "  [0, 0, 0, 0, 0, 0],  # Room 4: Escape pods\n",
    "  [0, 0, 0, 0, 0, 0],  # Room 5: Escape pods\n",
    "]\n",
    "\n",
    "Then in each time step, the following might happen:\n",
    "0 sends 4/4 bunnies to 2 and 6/6 bunnies to 3\n",
    "1 sends 4/5 bunnies to 2 and 2/2 bunnies to 3\n",
    "2 sends 4/4 bunnies to 4 and 4/4 bunnies to 5\n",
    "3 sends 4/6 bunnies to 4 and 4/6 bunnies to 5\n",
    "\n",
    "So, in total, 16 bunnies could make it to the escape pods at 4 and 5 at each time step.  (Note that in this example, room 3 could have sent any variation of 8 bunnies to 4 and 5, such as 2/6 and 6/6, but the final answer remains the same.)\n",
    "\n",
    "Languages\n",
    "=========\n",
    "\n",
    "To provide a Python solution, edit solution.py\n",
    "To provide a Java solution, edit solution.java\n",
    "\n",
    "Test cases\n",
    "==========\n",
    "\n",
    "Inputs:\n",
    "    (int list) entrances = [0]\n",
    "    (int list) exits = [3]\n",
    "    (int) path = [[0, 7, 0, 0], [0, 0, 6, 0], [0, 0, 0, 8], [9, 0, 0, 0]]\n",
    "Output:\n",
    "    (int) 6\n",
    "\n",
    "Inputs:\n",
    "    (int list) entrances = [0, 1]\n",
    "    (int list) exits = [4, 5]\n",
    "    (int) path = [[0, 0, 4, 6, 0, 0], [0, 0, 5, 2, 0, 0], [0, 0, 0, 0, 4, 4], [0, 0, 0, 0, 6, 6], [0, 0, 0, 0, 0, 0], [0, 0, 0, 0, 0, 0]]\n",
    "Output:\n",
    "(int) 16"
   ]
  },
  {
   "cell_type": "code",
   "execution_count": null,
   "metadata": {},
   "outputs": [],
   "source": []
  }
 ],
 "metadata": {
  "kernelspec": {
   "display_name": "Python 3",
   "language": "python",
   "name": "python3"
  },
  "language_info": {
   "codemirror_mode": {
    "name": "ipython",
    "version": 3
   },
   "file_extension": ".py",
   "mimetype": "text/x-python",
   "name": "python",
   "nbconvert_exporter": "python",
   "pygments_lexer": "ipython3",
   "version": "3.7.3"
  }
 },
 "nbformat": 4,
 "nbformat_minor": 2
}
