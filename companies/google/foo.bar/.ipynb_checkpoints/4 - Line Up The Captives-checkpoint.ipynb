{
 "cells": [
  {
   "cell_type": "markdown",
   "metadata": {},
   "source": [
    "Line Up The Captives\n",
    "=================\n",
    "\n",
    "As you ponder sneaky strategies for assisting with the great rabbit escape, you realize that you have an opportunity to fool Professor Booleans guards into thinking there are fewer rabbits total than there actually are.\n",
    "\n",
    "By cleverly lining up the rabbits of different heights, you can obscure the sudden departure of some of the captives.\n",
    "\n",
    "Beta Rabbits statisticians have asked you for some numerical analysis of how this could be done so that they can explore the best options.\n",
    "\n",
    "Luckily, every rabbit has a slightly different height, and the guards are lazy and few in number. Only one guard is stationed at each end of the rabbit line-up as they survey their captive population. With a bit of misinformation added to the facility roster, you can make the guards think there are different numbers of rabbits in holding.\n",
    "To help plan this caper you need to calculate how many ways the rabbits can be lined up such that a viewer on one end sees x rabbits, and a viewer on the other end sees y rabbits, because some taller rabbits block the view of the shorter ones.\n",
    "For example, if the rabbits were arranged in line with heights 30 cm, 10 cm, 50 cm, 40 cm, and then 20 cm, a guard looking from the left side would see 2 rabbits (30 and 50 cm) while a guard looking from the right side would see 3 rabbits (20, 40 and 50 cm).\n",
    "Write a method answer(x,y,n) which returns the number of possible ways to arrange n rabbits of unique heights along an east to west line, so that only x are visible from the west, and only y are visible from the east. The return value must be a string representing the number in base 10.\n",
    "\n",
    "If there is no possible arrangement, return \"0\".\n",
    "The number of rabbits (n) will be as small as 3 or as large as 40\n",
    "The viewable rabbits from either side (x and y) will be as small as 1 and as large as the total number of rabbits (n).\n",
    "\n",
    "Languages\n",
    "=========\n",
    "\n",
    "To provide a Python solution, edit solution.py\n",
    "To provide a Java solution, edit solution.java\n",
    "\n",
    "Test cases\n",
    "==========\n",
    "\n",
    "Inputs:\n",
    "    (int) x = 2\n",
    "    (int) y = 2\n",
    "    (int) n = 3\n",
    "Output:\n",
    "    (string) \"2\"\n",
    "Inputs:\n",
    "    (int) x = 1\n",
    "    (int) y = 2\n",
    "    (int) n = 6\n",
    "Output:\n",
    "    (string) \"24\""
   ]
  },
  {
   "cell_type": "code",
   "execution_count": null,
   "metadata": {},
   "outputs": [],
   "source": []
  }
 ],
 "metadata": {
  "kernelspec": {
   "display_name": "Python 3",
   "language": "python",
   "name": "python3"
  },
  "language_info": {
   "codemirror_mode": {
    "name": "ipython",
    "version": 3
   },
   "file_extension": ".py",
   "mimetype": "text/x-python",
   "name": "python",
   "nbconvert_exporter": "python",
   "pygments_lexer": "ipython3",
   "version": "3.7.3"
  }
 },
 "nbformat": 4,
 "nbformat_minor": 2
}
