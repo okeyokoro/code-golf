{
 "cells": [
  {
   "cell_type": "markdown",
   "metadata": {},
   "source": [
    "Undercover Underground\n",
    "======================\n",
    "\n",
    "As you help the rabbits establish more and more resistance groups to fight against Professor Boolean, you need a way to pass messages back and forth.\n",
    "\n",
    "Luckily there are abandoned tunnels between the warrens of the rabbits, and you need to find the best way to use them. In some cases, Beta Rabbit wants a high level of interconnectedness, especially when the groups show their loyalty and worthiness. In other scenarios the groups should be less intertwined, in case any are compromised by enemy agents or zombits.\n",
    "\n",
    "Every warren must be connected to every other warren somehow, and no two warrens should ever have more than one tunnel between them. Your assignment: count the number of ways to connect the resistance warrens.\n",
    "\n",
    "For example, with 3 warrens (denoted A, B, C) and 2 tunnels, there are three distinct ways to connect them:\n",
    "\n",
    "    A-B-C\n",
    "    A-C-B\n",
    "    C-A-B\n",
    "  \n",
    "With 4 warrens and 6 tunnels, the only way to connect them is to connect each warren to every other warren.\n",
    "\n",
    "Write a function answer(N, K) which returns the number of ways to connect N distinctly labelled warrens with exactly K tunnels, so that there is a path between any two warrens.\n",
    "\n",
    "The return value must be a string representation of the total number of ways to do so, in base 10.\n",
    "\n",
    "N will be at least 2 and at most 20.\n",
    "K will be at least one less than N and at most (N * (N - 1)) / 2\n",
    "\n",
    "Languages\n",
    "=========\n",
    "To provide a Python solution, edit solution.py\n",
    "To provide a Java solution, edit solution.java\n",
    "\n",
    "Test cases\n",
    "==========\n",
    "Inputs:\n",
    "    (int) N = 2\n",
    "    (int) K = 1\n",
    "Output:\n",
    "    (string) \"1\"\n",
    "Inputs:\n",
    "    (int) N = 4\n",
    "    (int) K = 3\n",
    "Output:\n",
    "    (string) \"16\""
   ]
  },
  {
   "cell_type": "markdown",
   "metadata": {},
   "source": [
    "https://github.com/dray92/Google-Foobar/blob/master/Underground_Undercover.py"
   ]
  },
  {
   "cell_type": "code",
   "execution_count": null,
   "metadata": {},
   "outputs": [],
   "source": []
  }
 ],
 "metadata": {
  "kernelspec": {
   "display_name": "Python 3",
   "language": "python",
   "name": "python3"
  },
  "language_info": {
   "codemirror_mode": {
    "name": "ipython",
    "version": 3
   },
   "file_extension": ".py",
   "mimetype": "text/x-python",
   "name": "python",
   "nbconvert_exporter": "python",
   "pygments_lexer": "ipython3",
   "version": "3.7.3"
  }
 },
 "nbformat": 4,
 "nbformat_minor": 2
}
