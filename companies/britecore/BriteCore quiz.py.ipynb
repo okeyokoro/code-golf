{
 "cells": [
  {
   "cell_type": "markdown",
   "metadata": {},
   "source": [
    "# PYTON NIGERIA ENTRY 11/11/2018\n",
    "Hello! I'm hiring __up to 30 coders__ from Nigeria for our 100% remote team! We're doing awesome things at BriteCore, a company writing software for US-based insurance carriers. As for me, I'm also not a recruiter, I'm a programmer just like you and co-authored Two Scoops of Django.\n",
    "\n",
    "Implementation is responsible for delivering BriteCore, our flagship cloud-based insurance software, to new clients.\n",
    "\n",
    "Your job will involve...\n",
    "\n",
    "- Developing modern software\n",
    "- Testing and deploying stable solutions\n",
    "- Advising clients on best solutions for their business needs\n",
    "- Collaborating with other BriteCore teams members across multiple divisions\n",
    "\n",
    "Absolute requirements:\n",
    "\n",
    "- Skill with Python and Javascript\n",
    "- Git\n",
    "- SQLAlchemy / MySQL\n",
    "- Linux\n",
    "- Written and verbal fluency in English\n",
    "- Good communication skills\n",
    "\n",
    "Bonus Skills:\n",
    "\n",
    "- Flask or web.py\n",
    "- Familiarity with Amazon Web Services\n",
    "- Bootstrap\n",
    "- JQuery\n",
    "- KnockoutJS\n",
    "- Docker\n",
    "- Ubuntu Linux\n",
    "- Ability to learn and expand your skills\n",
    "\n",
    "Perks of the job:\n",
    "\n",
    "- USD50k-USD70k annually based on experience and proven performance\n",
    "- Benefit from working alongside and observing world-class developers first hand\n",
    "- Comprehensive health insurance coverage including medical, dental, and vision (US Only)\n",
    "- Flexible schedule\n",
    "- Relaxed work environment\n",
    "- 100% Remote work\n",
    "- Flexible learning time - explore your ideas and new technologies on the clock\n",
    "\n",
    "We Will Expect You To\n",
    "- Stay familiar with the latest web development trends\n",
    "- Follow industry best practices\n",
    "- Be friendly, confident, and patient with others\n",
    "- Communicate clearly and effectively over chat and video conference\n",
    "- Be online and working Monday through Friday from 5PM to 9PM AM UTC\n",
    "- Ship code on time\n",
    "- Self-direct\n",
    "- Welcome feedback and collaboration\n",
    "\n",
    "\n",
    "I can’t promise that you’ll work with me. However, BriteCore is an awesome company, or I wouldn’t be working with them.\n",
    "\n",
    "If you are interested, please apply at https://engineering-application.britecore.com/ng/implementation-engineer.\n",
    "\n",
    "If you prefer to Django and feel very strong with your skills, we also have a single opening at https://engineering-application.britecore.com/ng/product-engineer"
   ]
  },
  {
   "cell_type": "markdown",
   "metadata": {},
   "source": [
    "## BriteCore Engineering Application\n",
    "\n",
    "Interested?\n",
    "Once you pass this quiz, you'll move forward in the BriteCore hiring process.\n",
    "\n",
    "[ 104, 116, 116, 112, 115, 58, 47, 47, 101, 110, 103, 105, 110, 101, 101, 114, 105, 110, 103, 45, 97, 112, 112, 108, 105, 99, 97, 116, 105, 111, 110, 46, 98, 114, 105, 116, 101, 99, 111, 114, 101, 46, 99, 111, 109, 47, 113, 117, 105, 122, 47, 105, 112, 108, 115, 106, 102, 107, 102, 107, 114, 111, 100, 115, 101, 101, 103, 103 ]\n",
    "\n",
    "__hints__: chr, char, list comprehension\n",
    "\n",
    "If you need to ask for help to solve this puzzle, that means you aren't quite ready for BriteCore yet.\n",
    "Learn, study, practice, and try next time!"
   ]
  },
  {
   "cell_type": "code",
   "execution_count": 1,
   "metadata": {},
   "outputs": [
    {
     "name": "stdout",
     "output_type": "stream",
     "text": [
      "https://engineering-application.britecore.com/quiz/afplawffpfkfkwfawfe\n"
     ]
    }
   ],
   "source": [
    "l = [ 104, 116, 116, 112, 115, 58, 47, 47, 101, 110, 103, 105, 110, 101, 101, 114, 105, 110, 103, 45, 97, 112, 112, 108, 105, 99, 97, 116, 105, 111, 110, 46, 98, 114, 105, 116, 101, 99, 111, 114, 101, 46, 99, 111, 109, 47, 113, 117, 105, 122, 47, 115, 97, 97, 115, 100, 97, 115, 100, 108, 102, 108, 102, 108, 115 ]\n",
    "l = [ 104, 116, 116, 112, 115, 58, 47, 47, 101, 110, 103, 105, 110, 101, 101, 114, 105, 110, 103, 45, 97, 112, 112, 108, 105, 99, 97, 116, 105, 111, 110, 46, 98, 114, 105, 116, 101, 99, 111, 114, 101, 46, 99, 111, 109, 47, 113, 117, 105, 122, 47, 115, 100, 102, 103, 119, 114, 52, 52, 104, 114, 102, 104, 102, 104, 45, 119, 115 ]\n",
    "l = [ 104, 116, 116, 112, 115, 58, 47, 47, 101, 110, 103, 105, 110, 101, 101, 114, 105, 110, 103, 45, 97, 112, 112, 108, 105, 99, 97, 116, 105, 111, 110, 46, 98, 114, 105, 116, 101, 99, 111, 114, 101, 46, 99, 111, 109, 47, 113, 117, 105, 122, 47, 97, 102, 112, 108, 97, 119, 102, 102, 112, 102, 107, 102, 107, 119, 102, 97, 119, 102, 101 ]\n",
    "# the latest l is for the Operations Engineering Position\n",
    "\n",
    "ans = \"\".join([chr(a) for a in l])\n",
    "print(ans)"
   ]
  },
  {
   "cell_type": "markdown",
   "metadata": {},
   "source": [
    "## Debugging Quiz\n",
    "Run this code to get to the next step of applying for the position of Software Engineer (Implementation). As you will need it later, save your answer as quiz.py\n",
    "\n",
    "In this stage if you need to ask for help, that means you aren't quite ready for BriteCore yet. Learn, study, practice, and try next time!"
   ]
  },
  {
   "cell_type": "code",
   "execution_count": 2,
   "metadata": {
    "scrolled": true
   },
   "outputs": [
    {
     "name": "stdout",
     "output_type": "stream",
     "text": [
      "b'https://engineering-application.britecore.com/e/t27e119s1t/testOperationsEngineer'\n"
     ]
    }
   ],
   "source": [
    "from cryptography.fernet import Fernet\n",
    "\n",
    "key = 'TluxwB3fV_GWuLkR1_BzGs1Zk90TYAuhNMZP_0q4WyM='\n",
    "\n",
    "# Oh no! The code is going over the edge! What are you going to do?\n",
    "message = b'gAAAAABcA0o39MS7Jn5jkEj8T_vuvFjnezWj_edCjrP1i13oefRlHsrX6Yrpt0mJ'\\\n",
    "          b'EwCTM8t5DQqcwiVQNWzFLiZM73Ip1pWJxzZX4AMr6PbzIH6GJs-XonQJHNCZ8d3_a_lUPY'\\\n",
    "          b'6H1Cm6gVtpNxnUC9Ix_EOyONze24xcHflYcb5fd-gdn24e3p_nnnb7JcOR_yX8sUR1IQry'\n",
    "\n",
    "message2 = b'gAAAAABcLtaxq4rB3cJqpTUPO7LJdrMbAejUleAjuddMrNjBTWU0_7t_CMxva9MQagnG2gNIBiH0rxgTZ0tTBdsGIiUuwLJ6350qBr_25tr3FaQOxImHeBRNuRmwl9lCbrR_-df5ofxeG_HPq--Jvg46HVn6ayXGBpKS94Ykt_w9RficGvz2yq5UUwBri87CvkpRDY4L4sql'\n",
    "\n",
    "message3 = b\"gAAAAABcdwbQYjze0lZqvdxLGwUD9rJpFqeD-CfUlXTGF7hdg1d5Ju1cLEgUVaXNNvc8YP1iCtAI6F1fDponIonnl5-3d62Pq0LSckQOVt6-b3jHbIS2eDdvNTc8vTBZ7ri9zH3CkMjdI9uQhhS-RTWZJGojy3gE7CbIeaPC2xfGzy5eENB1keaNNwyAsBVwnA_gY2haGmyn\"\n",
    "# message3 is for the Operations Engineer Position\n",
    "\n",
    "\n",
    "def main(message):\n",
    "    f = Fernet(key)\n",
    "    print(f.decrypt(message))\n",
    "\n",
    "\n",
    "main(message3)"
   ]
  },
  {
   "cell_type": "markdown",
   "metadata": {},
   "source": [
    "# BriteCore Engineering Application\n",
    "The link to this test will expire. We recommend that you save this page locally.\n",
    "\n",
    "## Implementation Engineer Hiring Project\n",
    "This is a project that we use for testing potential team members on their technical skills.\n",
    "\n",
    "### Feature Request App\n",
    "Build a web application that allows the user to create \"feature requests\".\n",
    "\n",
    "A \"feature request\" is a request for a new feature that will be added onto an existing piece of software. Assume that the user is an employee at IWS who would be entering this information after having some correspondence with the client that is requesting the feature. The necessary fields are:\n",
    "\n",
    "- __Title__: A short, descriptive name of the feature request.\n",
    "- __Description__: A long description of the feature request.\n",
    "- __Client__: A selection list of clients (use \"Client A\", \"Client B\", \"Client C\")\n",
    "- __Client Priority__: A numbered priority according to the client (1...n). Client Priority numbers should not repeat for the given client, so if a priority is set on a new feature as \"1\", then all other feature requests for that client should be reordered.\n",
    "- __Target Date__: The date that the client is hoping to have the feature.\n",
    "- __Product Area__: A selection list of product areas (use 'Policies', 'Billing', 'Claims', 'Reports')\n",
    "\n",
    "### Tech Stack Requirements\n",
    "The following are requirements on the tech stack. This stack demonstrates mastery of tools our team favors.\n",
    "\n",
    "__OS__: Ubuntu\n",
    "\n",
    "__Server Side Scripting__: Python 2.7+ or 3.6+\n",
    "\n",
    "__Server Framework__: Flask, web.py, or SimpleHTTPServer\n",
    "\n",
    "__ORM__: Sql-Alchemy\n",
    "\n",
    "__JavaScript__: JQuery and/or KnockoutJS\n",
    "\n",
    "\n",
    "### Guidelines\n",
    "Build your own public repo on github, and call it whatever you like. Build your solution in your repo, and include a README.md file that contains the detailed instructions for running your web app.\n",
    "\n",
    "One of the major goals in this project is to see how you fill in ambiguities in your own creative way. There is no such thing as a perfect project here, just interpretations of the instructions above, so be creative in your approach.\n",
    "\n",
    "We want to be respectful of your time and set realistic expectations for submission. To help guide you, we have included a deliverables and evaluation section which details common practices in the best projects we receive.\n",
    "\n",
    "### Deliverables\n",
    "In order to move your application forward, deliverables will include:\n",
    "\n",
    "1. A deployed version of your project running on Ubuntu\n",
    "\n",
    "2. A GitHub repo containing your project. Your repo must contain these three things:\n",
    "    - A README that explains your approach and deployment method\n",
    "    - Your code solution to this test\n",
    "    - The Python file called quiz.py that you used to solve the debugging quiz\n",
    "\n",
    "3. Adding of these items to your resume's cover letter:\n",
    "    - The link to the GitHub repo that lists this project\n",
    "    - The link to the deployed version of your project\n",
    "\n",
    "4. Uploading of your resume with cover letter in PDF or DOCX format by clicking this link: https://hire.withgoogle.com/public/jobs/britecorecom/view/P_AAAAAAEAADyJB4SlEI1Km_\n",
    "\n",
    "### Evaluation\n",
    "If you'd like to do very well on this project, we'll hand you the categories we utilize to score candidates! They are:\n",
    "\n",
    "- Business requirements are met or exceeded\n",
    "- All four deliverables are accounted for\n",
    "- Documentation in clearly written English\n",
    "- Python code is PEP8 compliant and embodies the concepts of the Zen of Python\n",
    "- Cleanly written Javascript\n",
    "- CSS Framework utilized correctly\n",
    "- Test coverage is complete and meaningful\n",
    "- Deployment is fully scripted\n",
    "- Communication is positive and respectful\n",
    "\n",
    "### Questions\n",
    "For questions, please use implementation-hires@britecore.com.\n",
    "\n",
    "Thank you for your time. We are excited to review your project!"
   ]
  },
  {
   "cell_type": "markdown",
   "metadata": {},
   "source": [
    "### LINK TO THE SOLUTION REPO\n",
    "\n",
    "[link](https://github.com/okeyokoro/britecore-operations-assessment)"
   ]
  },
  {
   "cell_type": "code",
   "execution_count": null,
   "metadata": {},
   "outputs": [],
   "source": []
  }
 ],
 "metadata": {
  "kernelspec": {
   "display_name": "Python 3",
   "language": "python",
   "name": "python3"
  },
  "language_info": {
   "codemirror_mode": {
    "name": "ipython",
    "version": 3
   },
   "file_extension": ".py",
   "mimetype": "text/x-python",
   "name": "python",
   "nbconvert_exporter": "python",
   "pygments_lexer": "ipython3",
   "version": "3.7.3"
  }
 },
 "nbformat": 4,
 "nbformat_minor": 2
}
