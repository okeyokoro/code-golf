{
 "cells": [
  {
   "cell_type": "markdown",
   "metadata": {},
   "source": [
    "# PRIMITIVE TYPES\n",
    "> The building blocks\n",
    "\n",
    "## Integers\n",
    "### Bitwise Operators\n",
    "\n",
    "\n",
    "|Operation| Description |\n",
    "|-------|-----------|\n",
    "| `y >> x` | Shift all the bits to the right. This reduces the number by a factor of 2^x  (`y * 2**y`)|\n",
    "| `y << x` | Shift all the bits to the left. This increases the number by a factor of 2^x  (`y // 2**y`)|\n",
    "| `y & x`  | Bitwise AND. It carries out the AND operation on the least significant bit |\n",
    "| `y \\| x`  | Bitwise OR. It carries out the OR operation on the least significant bit |\n",
    "| `~y`     | Returns the complement of of y. That is; it inverts all the bits in y|\n",
    "| `y ^ x`| Exclusive OR (XOR). Operates on least significant bit. It returns 1 if the two inputs are complementary. Example; `1 ^ 0 => 1`. And, `1 ^ 1 => 0`\n",
    "\n",
    "__NOTE__: integers are represented in __two's complement__ and __INFINITE BITS__ in Python  \n",
    "However, floats __DO NOT__ have infinite precision\n",
    "\n",
    "### Two's Complement Algorithm\n",
    "1. `x - 1` e.g. `5 - 1` => `4`\n",
    "2. `complement(x-1)` e.g. `complement(4)` => `complement(100)` => `011`"
   ]
  },
  {
   "cell_type": "code",
   "execution_count": 1,
   "metadata": {},
   "outputs": [],
   "source": [
    "# A program to count the number of\n",
    "# ones(1) in a binary number\n",
    "def count_ones(x):\n",
    "    \"\"\"The function takes a number x\n",
    "    and returns the number of ones in its binary representation\n",
    "       \n",
    "    :param x: int\n",
    "       \n",
    "    :return: int\n",
    "    \"\"\"\n",
    "    ones = 0\n",
    "    while x:\n",
    "        ones += x & 1  # `x & 1` returns 1 if the least significant bit is 1\n",
    "        x >>= 1  # this shifts the bits in x to the right by 1 place. e.g. 1101 will become 0110\n",
    "                 # and assigns the result to x\n",
    "    return ones\n",
    "\n",
    "def is_odd(x):\n",
    "    \"\"\"Test if a number is odd\n",
    "    \n",
    "    :param x: int\n",
    "    :retrun: bool\n",
    "    \"\"\"\n",
    "    return x & 1\n",
    "    \"\"\"This works because in binary representation\n",
    "    the only way for a number to be odd is to have its least significant bit set to 1\n",
    "    \n",
    "    Example\n",
    "    \n",
    "    position:      6   5   4   3   2   1   0\n",
    "    \n",
    "    bit:           1   0   0   1   0   1   1\n",
    "    \n",
    "    2**position:   64  32  16  8   4   2   1\n",
    "    \n",
    "    Looking at the 2**position row, you can see that a number can only be odd\n",
    "    if the least significant bit is 1.\n",
    "    Since all the other values in the row are multiples of 2(even)\n",
    "    \"\"\""
   ]
  },
  {
   "cell_type": "code",
   "execution_count": 2,
   "metadata": {},
   "outputs": [
    {
     "data": {
      "text/plain": [
       "1"
      ]
     },
     "execution_count": 2,
     "metadata": {},
     "output_type": "execute_result"
    }
   ],
   "source": [
    "is_odd(9)"
   ]
  },
  {
   "cell_type": "code",
   "execution_count": 3,
   "metadata": {},
   "outputs": [
    {
     "name": "stdout",
     "output_type": "stream",
     "text": [
      "0b10100 \n",
      " 2\n"
     ]
    }
   ],
   "source": [
    "print(\n",
    "    bin(20),\n",
    "    '\\n',\n",
    "    count_ones(20)\n",
    ")"
   ]
  },
  {
   "cell_type": "code",
   "execution_count": 5,
   "metadata": {},
   "outputs": [
    {
     "name": "stdout",
     "output_type": "stream",
     "text": [
      "Help on method randrange in module random:\n",
      "\n",
      "randrange(start, stop=None, step=1, _int=<class 'int'>) method of random.Random instance\n",
      "    Choose a random item from range(start, stop[, step]).\n",
      "    \n",
      "    This fixes the problem with randint() which includes the\n",
      "    endpoint; in Python this is usually not what you want.\n",
      "\n"
     ]
    }
   ],
   "source": [
    "import random\n",
    "\n",
    "help(random.randrange)"
   ]
  },
  {
   "cell_type": "code",
   "execution_count": 7,
   "metadata": {},
   "outputs": [
    {
     "name": "stdout",
     "output_type": "stream",
     "text": [
      "Help on method randint in module random:\n",
      "\n",
      "randint(a, b) method of random.Random instance\n",
      "    Return random integer in range [a, b], including both end points.\n",
      "\n"
     ]
    }
   ],
   "source": [
    "help(random.randint)"
   ]
  },
  {
   "cell_type": "code",
   "execution_count": 8,
   "metadata": {},
   "outputs": [
    {
     "data": {
      "text/plain": [
       "64"
      ]
     },
     "execution_count": 8,
     "metadata": {},
     "output_type": "execute_result"
    }
   ],
   "source": [
    "random.randrange(90)"
   ]
  },
  {
   "cell_type": "code",
   "execution_count": 15,
   "metadata": {},
   "outputs": [
    {
     "data": {
      "text/plain": [
       "0"
      ]
     },
     "execution_count": 15,
     "metadata": {},
     "output_type": "execute_result"
    }
   ],
   "source": [
    "random.randrange(2)"
   ]
  },
  {
   "cell_type": "code",
   "execution_count": 26,
   "metadata": {},
   "outputs": [],
   "source": [
    "# Task: Write a function that computes the parity of a VERY LARGE number\n",
    "# A binary number has a parity of 1 if it has an odd number of 1s\n",
    "# and a parity of zero otherwise\n",
    "# use bitwise operators\n",
    "def parity_1(n):\n",
    "    \"\"\"\n",
    "    :return: bool\n",
    "    \"\"\"\n",
    "    # Approach 1: We could do list(bin(n))[2:] and iterate to count the 1s. time = O(n), space = O(1)\n",
    "    # Approach 2: We could use `bit shifting` and `bitwise AND` like in count_ones()\n",
    "    # Approach 3: return int(list(bin(n))[2:].count('1'))\n",
    "    ones = 0\n",
    "    while n:\n",
    "        ones += n & 1  # add 1 if the LSB is 1\n",
    "        n >>= 1        # shift the bits to the right\n",
    "    return ones & 1    # will return 1 if ones is an odd number\n",
    "\n",
    "\n",
    "def parity_book(n):\n",
    "    \"\"\"\n",
    "    :return: bool\n",
    "    \"\"\"\n",
    "    odd_1s = 0\n",
    "    while n:\n",
    "        odd_1s ^= n & 1 # see bottom of page 38 of book for full explanation\n",
    "        n >>= 1         # in short odd_1s is toggled every time a 1 is encountered.\n",
    "                        # And gauranteed to be 1 when an odd number of 1s are found\n",
    "    return odd_1s\n",
    "\n",
    "def better_parity(n):\n",
    "    \"\"\"This implementation takes advantage of \n",
    "    [3] `clear the lowest set bit(least significant 1)`\n",
    "    \n",
    "    You can clear the lowermost set bit by doing:\n",
    "        x&(x-1) \n",
    "    \n",
    "    :return: bool\n",
    "    \"\"\"\n",
    "    odd_1s = 0\n",
    "    while n:\n",
    "        odd_1s ^= n & 1\n",
    "        n &= (n-1)     # clears the lowest set bit. This way the time complexity is O(k)\n",
    "    return odd_1s      # given that k stands for the number of 1s in the word\n",
    "    "
   ]
  },
  {
   "cell_type": "code",
   "execution_count": 29,
   "metadata": {},
   "outputs": [
    {
     "data": {
      "text/plain": [
       "['1', '0', '1', '0', '0', '0']"
      ]
     },
     "execution_count": 29,
     "metadata": {},
     "output_type": "execute_result"
    }
   ],
   "source": [
    "list(bin(40))[2:].count('1')"
   ]
  },
  {
   "cell_type": "code",
   "execution_count": 24,
   "metadata": {},
   "outputs": [
    {
     "data": {
      "text/plain": [
       "1"
      ]
     },
     "execution_count": 24,
     "metadata": {},
     "output_type": "execute_result"
    }
   ],
   "source": [
    "parity(30000)"
   ]
  },
  {
   "cell_type": "code",
   "execution_count": 30,
   "metadata": {},
   "outputs": [
    {
     "data": {
      "text/plain": [
       "0"
      ]
     },
     "execution_count": 30,
     "metadata": {},
     "output_type": "execute_result"
    }
   ],
   "source": [
    "0 and True"
   ]
  },
  {
   "cell_type": "code",
   "execution_count": null,
   "metadata": {},
   "outputs": [],
   "source": []
  }
 ],
 "metadata": {
  "kernelspec": {
   "display_name": "Python 3",
   "language": "python",
   "name": "python3"
  },
  "language_info": {
   "codemirror_mode": {
    "name": "ipython",
    "version": 3
   },
   "file_extension": ".py",
   "mimetype": "text/x-python",
   "name": "python",
   "nbconvert_exporter": "python",
   "pygments_lexer": "ipython3",
   "version": "3.7.3"
  }
 },
 "nbformat": 4,
 "nbformat_minor": 2
}