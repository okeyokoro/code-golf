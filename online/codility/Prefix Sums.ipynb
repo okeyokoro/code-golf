{
 "cells": [
  {
   "cell_type": "code",
   "execution_count": 57,
   "metadata": {
    "collapsed": true
   },
   "outputs": [],
   "source": [
    "l = [1,2,3,4,5,6]"
   ]
  },
  {
   "cell_type": "code",
   "execution_count": 58,
   "metadata": {
    "collapsed": false
   },
   "outputs": [],
   "source": [
    "def prefix_sums(A):\n",
    "    n = len(A)\n",
    "    P = [0]*(n+1)\n",
    "    for k in range(1, n+1):\n",
    "        P[k] = P[k-1] + A[k-1]\n",
    "    return P"
   ]
  },
  {
   "cell_type": "code",
   "execution_count": 59,
   "metadata": {
    "collapsed": false
   },
   "outputs": [
    {
     "data": {
      "text/plain": [
       "[0, 1, 3, 6, 10, 15, 21]"
      ]
     },
     "execution_count": 59,
     "metadata": {},
     "output_type": "execute_result"
    }
   ],
   "source": [
    "prefix_sums(l)"
   ]
  },
  {
   "cell_type": "code",
   "execution_count": 60,
   "metadata": {
    "collapsed": false
   },
   "outputs": [],
   "source": [
    "def slice_total(A, m, n):\n",
    "    psum = prefix_sums(A)\n",
    "    return psum[n+1] - psum[m]"
   ]
  },
  {
   "cell_type": "code",
   "execution_count": 61,
   "metadata": {
    "collapsed": false
   },
   "outputs": [
    {
     "data": {
      "text/plain": [
       "11"
      ]
     },
     "execution_count": 61,
     "metadata": {},
     "output_type": "execute_result"
    }
   ],
   "source": [
    "slice_total(l,4,5)"
   ]
  },
  {
   "cell_type": "code",
   "execution_count": 62,
   "metadata": {
    "collapsed": false
   },
   "outputs": [
    {
     "name": "stdout",
     "output_type": "stream",
     "text": [
      "73\n"
     ]
    }
   ],
   "source": [
    "m = [2,3,7,5,1,3,9]\n",
    "\n",
    "def mushroom_picker(A,k,m):\n",
    "    \"\"\"maximum number of mushrooms\n",
    "        from position k\n",
    "        given m adjacent moves\"\"\"\n",
    "    \n",
    "    psums = prefix_sums(A)\n",
    "    n = len(A)\n",
    "    result = 0\n",
    "    \n",
    "    for p in xrange(min(m,k) + 1):\n",
    "        left_pos = k - p\n",
    "        right_pos = min(n-1, max(k, k+m-2*p))\n",
    "        result = max(result, slice_total(psums, left_pos, right_pos))\n",
    "    for p in xrange(min(m+1, n-k)):\n",
    "        right_pos = k+p\n",
    "        left_pos = max(0, min(k,k-(m-2*p)))\n",
    "        result = max(result, slice_total(psums, left_pos, right_pos))\n",
    "    print result\n",
    "    \n",
    "mushroom_picker(m, 4, 6) \n",
    "    "
   ]
  },
  {
   "cell_type": "code",
   "execution_count": null,
   "metadata": {
    "collapsed": false
   },
   "outputs": [],
   "source": []
  }
 ],
 "metadata": {
  "kernelspec": {
   "display_name": "Python 2",
   "language": "python",
   "name": "python2"
  },
  "language_info": {
   "codemirror_mode": {
    "name": "ipython",
    "version": 2
   },
   "file_extension": ".py",
   "mimetype": "text/x-python",
   "name": "python",
   "nbconvert_exporter": "python",
   "pygments_lexer": "ipython2",
   "version": "2.7.13"
  }
 },
 "nbformat": 4,
 "nbformat_minor": 2
}
