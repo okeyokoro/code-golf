{
 "cells": [
  {
   "cell_type": "markdown",
   "metadata": {},
   "source": [
    "Lovely Lucky LAMBs\n",
    "==================\n",
    "\n",
    "Being a henchman isn't all drudgery. Occasionally, when Commander Lambda is feeling generous, she'll hand out Lucky LAMBs (Lambda's All-purpose Money Bucks). Henchmen can use Lucky LAMBs to buy things like a second pair of socks, a pillow for their bunks, or even a third daily meal!\n",
    "\n",
    "However, actually passing out LAMBs isn't easy. Each henchman squad has a strict seniority ranking which must be respected - or else the henchmen will revolt and you'll all get demoted back to minions again! \n",
    "\n",
    "There are 4 key rules which you must follow in order to avoid a revolt:\n",
    "    \n",
    "    1. The most junior henchman (with the least seniority) gets exactly 1 LAMB.  (There will always be at least 1 henchman on a team.)\n",
    "    \n",
    "    2. A henchman will revolt if the person who ranks immediately above them gets more than double the number of LAMBs they do.\n",
    "    \n",
    "    3. A henchman will revolt if the amount of LAMBs given to their next two subordinates combined is more than the number of LAMBs they get.  (Note that the two most junior henchmen won't have two subordinates, so this rule doesn't apply to them.  The 2nd most junior henchman would require at least as many LAMBs as the most junior henchman.)\n",
    "    \n",
    "    4. You can always find more henchmen to pay - the Commander has plenty of employees.  If there are enough LAMBs left over such that another henchman could be added as the most senior while obeying the other rules, you must always add and pay that henchman.\n",
    "\n",
    "Note that you may not be able to hand out all the LAMBs. A single LAMB cannot be subdivided. That is, all henchmen must get a positive integer number of LAMBs.\n",
    "\n",
    "Write a function called answer(total_lambs), where total_lambs is the integer number of LAMBs in the handout you are trying to divide. It should return an integer which represents the difference between the minimum and maximum number of henchmen who can share the LAMBs (that is, being as generous as possible to those you pay and as stingy as possible, respectively) while still obeying all of the above rules to avoid a revolt.  For instance, if you had 10 LAMBs and were as generous as possible, you could only pay 3 henchmen (1, 2, and 4 LAMBs, in order of ascending seniority), whereas if you were as stingy as possible, you could pay 4 henchmen (1, 1, 2, and 3 LAMBs). Therefore, answer(10) should return 4-3 = 1.\n",
    "\n",
    "To keep things interesting, Commander Lambda varies the sizes of the Lucky LAMB payouts. You can expect total_lambs to always be a positive integer less than 1 billion (10 ^ 9).\n",
    "\n",
    "Languages\n",
    "=========\n",
    "\n",
    "To provide a Python solution, edit solution.py\n",
    "To provide a Java solution, edit solution.java\n",
    "\n",
    "Test cases\n",
    "==========\n",
    "\n",
    "Inputs:\n",
    "    (int) total_lambs = 10\n",
    "Output:\n",
    "    (int) 1\n",
    "\n",
    "Inputs:\n",
    "    (int) total_lambs = 143\n",
    "Output:\n",
    "    (int) 3\n",
    "\n",
    "Use verify [file] to test your solution and see how it does. When you are finished editing your code, use submit [file] to submit your answer. If your solution passes the test cases, it will be removed from your home folder"
   ]
  },
  {
   "cell_type": "code",
   "execution_count": 2,
   "metadata": {},
   "outputs": [],
   "source": [
    "def answer(total_lambs):\n",
    "    if total_lambs >= 10**9 or total_lambs == 1 or total_lambs == 2:\n",
    "        return 0\n",
    "    return stingy(total_lambs-2) - generous(total_lambs)\n",
    "\n",
    "def stingy(total_lambs):\n",
    "    \n",
    "    lambs = [1, 1]\n",
    "    henchmen = 2\n",
    "    \n",
    "    while True:\n",
    "        # lambs[-2]+lambs[-1] <= next_lamb <= 2*lambs[-1]\n",
    "        next_lamb = lambs[-2]+lambs[-1]\n",
    "        \n",
    "        if total_lambs - next_lamb >= 0:\n",
    "            total_lambs -= next_lamb\n",
    "            henchmen += 1\n",
    "            lambs.append(next_lamb)\n",
    "            lambs.pop(0)\n",
    "            continue\n",
    "        else:\n",
    "            return henchmen\n",
    "\n",
    "\"\"\"\n",
    "def generous(total_lambs):\n",
    "\n",
    "    lambs = [1, 2]    \n",
    "    henchmen = 2\n",
    "    \n",
    "    while True:\n",
    "        # lambs[-2]+lambs[-1] <= next_lamb <= 2*lambs[-1]\n",
    "        try:\n",
    "            next_lamb = list(reversed(list(filter(lambda x: total_lambs - x >=0, range(lambs[-2]+lambs[-1], 2*lambs[-1] +1)))))[0]\n",
    "        except IndexError:\n",
    "            return henchmen \n",
    "\n",
    "        total_lambs -= next_lamb\n",
    "        henchmen += 1\n",
    "        lambs.append(next_lamb)\n",
    "        lambs.pop(0)\n",
    "\n",
    "SEE: https://stackoverflow.com/questions/13105875/compute-fast-log-base-2-ceiling-in-python\n",
    "\n",
    "Find the minimum number of henchmen you can pay\n",
    "Being generous as possible (using 2^n pattern)\n",
    "\"\"\"\n",
    "\n",
    "def generous(total_lambs):\n",
    "    # henchmen paid so far is n\n",
    "    n = 0\n",
    "    # max pay all of the minions you can\n",
    "    n = total_lambs.bit_length() - 1 # ultra-fast equivalent of floor(log2())\n",
    "    total_lambs -= 2**n - 1\n",
    "\n",
    "    # Are there enough left to pay another without breaking the fib rule?\n",
    "    last_1 = 2**(n-1) if n > 0 else 0 # how much the last goon was paid\n",
    "    last_2 = 2**(n-2) if n > 1 else 0 # how much 2nd-to-last goon was paid\n",
    "    if total_lambs >= last_1 + last_2:\n",
    "        n += 1\n",
    "\n",
    "    return n"
   ]
  },
  {
   "cell_type": "code",
   "execution_count": 3,
   "metadata": {},
   "outputs": [
    {
     "data": {
      "text/plain": [
       "1"
      ]
     },
     "execution_count": 3,
     "metadata": {},
     "output_type": "execute_result"
    }
   ],
   "source": [
    "answer(10)"
   ]
  },
  {
   "cell_type": "code",
   "execution_count": 4,
   "metadata": {},
   "outputs": [
    {
     "data": {
      "text/plain": [
       "3"
      ]
     },
     "execution_count": 4,
     "metadata": {},
     "output_type": "execute_result"
    }
   ],
   "source": [
    "answer(143)"
   ]
  },
  {
   "cell_type": "code",
   "execution_count": 5,
   "metadata": {},
   "outputs": [
    {
     "data": {
      "text/plain": [
       "12"
      ]
     },
     "execution_count": 5,
     "metadata": {},
     "output_type": "execute_result"
    }
   ],
   "source": [
    "answer(10**9-1)"
   ]
  },
  {
   "cell_type": "code",
   "execution_count": null,
   "metadata": {},
   "outputs": [],
   "source": []
  }
 ],
 "metadata": {
  "kernelspec": {
   "display_name": "Python 3",
   "language": "python",
   "name": "python3"
  },
  "language_info": {
   "codemirror_mode": {
    "name": "ipython",
    "version": 3
   },
   "file_extension": ".py",
   "mimetype": "text/x-python",
   "name": "python",
   "nbconvert_exporter": "python",
   "pygments_lexer": "ipython3",
   "version": "3.7.3"
  }
 },
 "nbformat": 4,
 "nbformat_minor": 2
}
