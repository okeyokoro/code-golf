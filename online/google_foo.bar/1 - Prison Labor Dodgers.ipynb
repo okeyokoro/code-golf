{
 "cells": [
  {
   "cell_type": "markdown",
   "metadata": {},
   "source": [
    "Prison Labor Dodgers\n",
    "====================\n",
    "\n",
    "Commander Lambda is all about efficiency, including using her bunny prisoners for manual labor. But no one's been properly monitoring the labor shifts for a while, and they've gotten quite mixed up. You've been given the task of fixing them, but after you wrote up new shifts, you realized that some prisoners had been transferred to a different block and aren't available for their assigned shifts. And manually sorting through each shift list to compare against prisoner block lists will take forever - remember, Commander Lambda loves efficiency!\n",
    "\n",
    "Given two almost identical lists of prisoner IDs x and y where one of the lists contains an additional ID, write a function `answer(x, y)` that compares the lists and returns the additional ID.\n",
    "\n",
    "For example, given the lists `x = [13, 5, 6, 2, 5]` and `y = [5, 2, 5, 13]`, the function `answer(x, y)` would return `6` because the list x contains the integer 6 and the list y doesn't. Given the lists `x = [14, 27, 1, 4, 2, 50, 3, 1]` and `y = [2, 4, -4, 3, 1, 1, 14, 27, 50]`, the function answer(x, y) would return `-4` because the list y contains the integer -4 and the list x doesn't.\n",
    "\n",
    "In each test case, the lists x and y will always contain n non-unique integers where n is at least 1 but never more than 99, and one of the lists will contain an additional unique integer which should be returned by the function.  The same n non-unique integers will be present on both lists, but they might appear in a different order, like in the examples above. Commander Lambda likes to keep her numbers short, so every prisoner ID will be between -1000 and 1000.\n",
    "\n",
    "Languages\n",
    "=========\n",
    "\n",
    "To provide a Python solution, edit solution.py  \n",
    "To provide a Java solution, edit solution.java  \n",
    "\n",
    "Test cases\n",
    "==========\n",
    "\n",
    "Inputs:\n",
    "\n",
    "    (int list) x = [13, 5, 6, 2, 5]\n",
    "    (int list) y = [5, 2, 5, 13]\n",
    "\n",
    "Output:\n",
    "\n",
    "    (int) 6\n",
    "\n",
    "Inputs:\n",
    "\n",
    "    (int list) x = [14, 27, 1, 4, 2, 50, 3, 1]\n",
    "    (int list) y = [2, 4, -4, 3, 1, 1, 14, 27, 50]\n",
    "\n",
    "Output:\n",
    "\n",
    "    (int) -4\n",
    "\n",
    "Use verify [file] to test your solution and see how it does. When you are finished editing your code, use submit [file] to submit your answer. If your solution passes the test cases, it will be removed from your home folder.\n"
   ]
  },
  {
   "cell_type": "code",
   "execution_count": null,
   "metadata": {},
   "outputs": [],
   "source": []
  }
 ],
 "metadata": {
  "kernelspec": {
   "display_name": "Python 3",
   "language": "python",
   "name": "python3"
  },
  "language_info": {
   "codemirror_mode": {
    "name": "ipython",
    "version": 3
   },
   "file_extension": ".py",
   "mimetype": "text/x-python",
   "name": "python",
   "nbconvert_exporter": "python",
   "pygments_lexer": "ipython3",
   "version": "3.7.3"
  }
 },
 "nbformat": 4,
 "nbformat_minor": 2
}
