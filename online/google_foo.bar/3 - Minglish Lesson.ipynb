{
 "cells": [
  {
   "cell_type": "markdown",
   "metadata": {},
   "source": [
    "Minglish lesson\n",
    "===============\n",
    "Welcome to the lab, minion. Henceforth you shall do the bidding of Professor\n",
    "Boolean. Some say he's mad, trying to develop a zombie serum and all... but we\n",
    "think he's brilliant!\n",
    "\n",
    "First things first - Minions don't speak English, we speak Minglish. Use the\n",
    "Minglish dictionary to learn! The first thing you'll learn is how to use the\n",
    "dictionary.\n",
    "\n",
    "Open the dictionary. Read the page numbers, figure out which pages come before\n",
    "others. You recognize the same letters used in English, but the order of letters\n",
    "is completely different in Minglish than English (a < b < c < ...).\n",
    "\n",
    "Given a sorted list of dictionary words (you know they are sorted because you\n",
    "can read the page numbers), can you find the alphabetical order of the Minglish\n",
    "alphabet?\n",
    "\n",
    "For example, if the words were [\"z\", \"yx\", \"yz\"] the alphabetical order would be\n",
    "\"xzy,\" which means x < z < y. The first two words tell you that z < y, and the\n",
    "last two words tell you that x < z.\n",
    "\n",
    "Write a function answer(words) which, given a list of words sorted\n",
    "alphabetically in the Minglish alphabet, outputs a string that contains each\n",
    "letter present in the list of words exactly once; the order of the letters in\n",
    "the output must follow the order of letters in the Minglish alphabet.\n",
    "\n",
    "The list will contain at least 1 and no more than 50 words, and each word will\n",
    "consist of at least 1 and no more than 50 lowercase letters [a-z].\n",
    "\n",
    "It is guaranteed that a total ordering can be developed from the input provided,\n",
    "(i.e. given any two distinct letters, you can tell which is greater),\n",
    "and so the answer will exist and be unique."
   ]
  },
  {
   "cell_type": "code",
   "execution_count": null,
   "metadata": {},
   "outputs": [],
   "source": []
  }
 ],
 "metadata": {
  "kernelspec": {
   "display_name": "Python 3",
   "language": "python",
   "name": "python3"
  },
  "language_info": {
   "codemirror_mode": {
    "name": "ipython",
    "version": 3
   },
   "file_extension": ".py",
   "mimetype": "text/x-python",
   "name": "python",
   "nbconvert_exporter": "python",
   "pygments_lexer": "ipython3",
   "version": "3.7.3"
  }
 },
 "nbformat": 4,
 "nbformat_minor": 2
}
