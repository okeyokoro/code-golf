{
 "cells": [
  {
   "cell_type": "markdown",
   "metadata": {},
   "source": [
    "Don't Get Volunteered!\n",
    "======================\n",
    "\n",
    "As a henchman on Commander Lambda's space station, you're expected to be resourceful, smart, and a quick thinker. It's not easy building a doomsday device and capturing bunnies at the same time, after all! In order to make sure that everyone working for her is sufficiently quick-witted, Commander Lambda has installed new flooring outside the henchman dormitories. It looks like a chessboard, and every morning and evening you have to solve a new movement puzzle in order to cross the floor. That would be fine if you got to be the rook or the queen, but instead, you have to be the knight. Worse, if you take too much time solving the puzzle, you get \"volunteered\" as a test subject for the LAMBCHOP doomsday device!\n",
    "\n",
    "To help yourself get to and from your bunk every day, write a function called answer(src, dest) which takes in two parameters: the source square, on which you start, and the destination square, which is where you need to land to solve the puzzle.  The function should return an integer representing the smallest number of moves it will take for you to travel from the source square to the destination square using a chess knight's moves (that is, two squares in any direction immediately followed by one square perpendicular to that direction, or vice versa, in an \"L\" shape).  Both the source and destination squares will be an integer between 0 and 63, inclusive, and are numbered like the example chessboard below:\n",
    "\n",
    "| - | 0 | 1 | 2 | 3 | 4 | 5 | 6 | 7 |\n",
    "|---|---|---|---|---|---|---|---|---|\n",
    "| **0** | 0| 1| 2| 3| 4| 5| 6| 7|\n",
    "| **1** | 8| 9|10|11|12|13|14|15|\n",
    "| **2** |16|17|18|19|20|21|22|23|\n",
    "| **3** |24|25|26|27|28|29|30|31|\n",
    "| **4** |32|33|34|35|36|37|38|39|\n",
    "| **5** |40|41|42|43|44|45|46|47|\n",
    "| **6** |48|49|50|51|52|53|54|55|\n",
    "| **7** |56|57|58|59|60|61|62|63|\n",
    "\n",
    "Languages\n",
    "=========\n",
    "\n",
    "To provide a Python solution, edit solution.py  \n",
    "To provide a Java solution, edit solution.java  \n",
    "\n",
    "Test cases\n",
    "==========\n",
    "\n",
    "Inputs:\n",
    "\n",
    "    (int) src = 19\n",
    "    (int) dest = 36\n",
    "\n",
    "Output:\n",
    "\n",
    "    (int) 1\n",
    "\n",
    "Inputs:\n",
    "\n",
    "    (int) src = 0\n",
    "    (int) dest = 1\n",
    "\n",
    "Output:\n",
    "\n",
    "    (int) 3\n",
    "\n",
    "Use verify [file] to test your solution and see how it does. When you are finished editing your code, use submit [file] to submit your answer. If your solution passes the test cases, it will be removed from your home folder.\n"
   ]
  },
  {
   "cell_type": "code",
   "execution_count": 3,
   "metadata": {},
   "outputs": [],
   "source": [
    "# knight's shortest path"
   ]
  },
  {
   "cell_type": "code",
   "execution_count": null,
   "metadata": {},
   "outputs": [],
   "source": []
  }
 ],
 "metadata": {
  "kernelspec": {
   "display_name": "Python 3",
   "language": "python",
   "name": "python3"
  },
  "language_info": {
   "codemirror_mode": {
    "name": "ipython",
    "version": 3
   },
   "file_extension": ".py",
   "mimetype": "text/x-python",
   "name": "python",
   "nbconvert_exporter": "python",
   "pygments_lexer": "ipython3",
   "version": "3.7.3"
  }
 },
 "nbformat": 4,
 "nbformat_minor": 2
}
