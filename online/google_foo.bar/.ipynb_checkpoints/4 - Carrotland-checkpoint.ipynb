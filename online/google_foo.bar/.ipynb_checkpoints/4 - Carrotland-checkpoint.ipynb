{
 "cells": [
  {
   "cell_type": "markdown",
   "metadata": {},
   "source": [
    "Carrotland\n",
    "==========\n",
    "The rabbits are free at last, free from that horrible zombie science experiment. They need a happy, safe home, where they can recover.\n",
    "You have a dream, a dream of carrots, lots of carrots, planted in neat rows and columns! But first, you need some land. And the only person who's selling land is Farmer Frida. Unfortunately, not only does she have only one plot of land, she also doesn't know how big it is - only that it is a triangle. However, she can tell you the location of the three vertices, which lie on the 2-D plane and have integer coordinates.\n",
    "Of course, you want to plant as many carrots as you can. But you also want to follow these guidelines: The carrots may only be planted at points with integer coordinates on the 2-D plane. They must lie within the plot of land and not on the boundaries. For example, if the vertices were (-1,-1), (1,0) and (0,1), then you can plant only one carrot at (0,0).\n",
    "Write a function answer(vertices), which, when given a list of three vertices, returns the maximum number of carrots you can plant.\n",
    "The vertices list will contain exactly three elements, and each element will be a list of two integers representing the x and y coordinates of a vertex. All coordinates will have absolute value no greater than 1000000000. The three vertices will not be collinear.\n",
    "\n",
    "Languages\n",
    "=========\n",
    "To provide a Python solution, edit solution.py\n",
    "To provide a Java solution, edit solution.java\n",
    "\n",
    "Test cases\n",
    "==========\n",
    "Inputs:\n",
    "    (int) vertices = [[2, 3], [6, 9], [10, 160]]\n",
    "Output:\n",
    "    (int) 289\n",
    "Inputs:\n",
    "    (int) vertices = [[91207, 89566], [-88690, -83026], [67100, 47194]]\n",
    "Output:\n",
    "    (int) 1730960165"
   ]
  },
  {
   "cell_type": "code",
   "execution_count": null,
   "metadata": {},
   "outputs": [],
   "source": []
  }
 ],
 "metadata": {
  "kernelspec": {
   "display_name": "Python 3",
   "language": "python",
   "name": "python3"
  },
  "language_info": {
   "codemirror_mode": {
    "name": "ipython",
    "version": 3
   },
   "file_extension": ".py",
   "mimetype": "text/x-python",
   "name": "python",
   "nbconvert_exporter": "python",
   "pygments_lexer": "ipython3",
   "version": "3.7.3"
  }
 },
 "nbformat": 4,
 "nbformat_minor": 2
}
