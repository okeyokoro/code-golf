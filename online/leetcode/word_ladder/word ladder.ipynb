{
 "cells": [
  {
   "cell_type": "code",
   "execution_count": 179,
   "metadata": {},
   "outputs": [],
   "source": [
    "\"\"\"\n",
    "    lol, this question came up during pramp.com\n",
    "\n",
    "    we could brute-force it.\n",
    "    building a tree of options, at each level of the tree is 1 transformation progressions.\n",
    "    then it's simply a BFS to find the shortest path.\n",
    "\"\"\"\n",
    "\n",
    "from collections import deque, defaultdict\n",
    "\n",
    "\n",
    "def is_1_trans_away(src, dst):\n",
    "    off = 0\n",
    "    for s,d in zip(src,dst):\n",
    "        if s != d:\n",
    "            off += 1\n",
    "    return off == 1\n",
    "\n",
    "\n",
    "class Node:\n",
    "    def __init__(self, val, parent=None, seen=None):\n",
    "        self.parent = parent\n",
    "        self.val = val\n",
    "        self.options = []\n",
    "        seen.add(val)\n",
    "        \n",
    "    def __repr__(self):\n",
    "        return f\"Node {self.val}\"\n",
    "\n",
    "\n",
    "def ladderLength(bgn, end, words):\n",
    "\n",
    "    if bgn == end:\n",
    "        return 0\n",
    "\n",
    "    words = set(words)\n",
    "    seen = set()\n",
    "    count = 0\n",
    "    ans = None\n",
    "\n",
    "    bgn = Node(bgn, seen=seen)\n",
    "    q = deque([bgn])\n",
    "\n",
    "    while q:\n",
    "        node = q.popleft()\n",
    "        words = words - seen\n",
    "        for w in words:\n",
    "            if is_1_trans_away(node.val, w):\n",
    "                option = Node(w, parent=node, seen=seen)\n",
    "                if w == end:\n",
    "                    ans = option\n",
    "                    break\n",
    "                node.options.append(option)\n",
    "                q.append(option)\n",
    "\n",
    "    while ans:\n",
    "        print(f\"count: {count+1} | ans: {ans.val}\")\n",
    "        ans = ans.parent\n",
    "        count += 1\n",
    "    \n",
    "    return count\n"
   ]
  },
  {
   "cell_type": "code",
   "execution_count": 180,
   "metadata": {},
   "outputs": [
    {
     "name": "stdout",
     "output_type": "stream",
     "text": [
      "count: 1 | ans: miss\n",
      "count: 2 | ans: mist\n",
      "count: 3 | ans: most\n",
      "count: 4 | ans: lost\n"
     ]
    },
    {
     "data": {
      "text/plain": [
       "4"
      ]
     },
     "execution_count": 180,
     "metadata": {},
     "output_type": "execute_result"
    }
   ],
   "source": [
    "ladderLength(\"lost\", \"miss\",  [\"most\",\"mist\",\"miss\",\"lost\",\"fist\",\"fish\"])"
   ]
  },
  {
   "cell_type": "code",
   "execution_count": 175,
   "metadata": {},
   "outputs": [
    {
     "name": "stdout",
     "output_type": "stream",
     "text": [
      "Node cog\n",
      "count: 1 | ans: cog\n",
      "count: 2 | ans: dog\n",
      "count: 3 | ans: dot\n",
      "count: 4 | ans: hot\n",
      "count: 5 | ans: hit\n"
     ]
    },
    {
     "data": {
      "text/plain": [
       "5"
      ]
     },
     "execution_count": 175,
     "metadata": {},
     "output_type": "execute_result"
    }
   ],
   "source": [
    "ladderLength(\"hit\", \"cog\",  [\"hot\",\"dot\",\"dog\",\"lot\",\"log\",\"cog\"])"
   ]
  },
  {
   "cell_type": "code",
   "execution_count": 176,
   "metadata": {},
   "outputs": [
    {
     "name": "stdout",
     "output_type": "stream",
     "text": [
      "None\n"
     ]
    },
    {
     "data": {
      "text/plain": [
       "0"
      ]
     },
     "execution_count": 176,
     "metadata": {},
     "output_type": "execute_result"
    }
   ],
   "source": [
    "ladderLength(\"hit\", \"cog\",  [\"hot\",\"dot\",\"dog\",\"lot\",\"log\"])"
   ]
  },
  {
   "cell_type": "code",
   "execution_count": 177,
   "metadata": {},
   "outputs": [
    {
     "name": "stdout",
     "output_type": "stream",
     "text": [
      "Node code\n",
      "count: 1 | ans: code\n",
      "count: 2 | ans: lode\n",
      "count: 3 | ans: lose\n",
      "count: 4 | ans: lost\n",
      "count: 5 | ans: lest\n",
      "count: 6 | ans: leet\n"
     ]
    },
    {
     "data": {
      "text/plain": [
       "6"
      ]
     },
     "execution_count": 177,
     "metadata": {},
     "output_type": "execute_result"
    }
   ],
   "source": [
    "ladderLength(\"leet\", \"code\",  [\"lest\",\"leet\",\"lose\",\"code\",\"lode\",\"robe\",\"lost\"])"
   ]
  },
  {
   "cell_type": "code",
   "execution_count": 178,
   "metadata": {},
   "outputs": [
    {
     "name": "stdout",
     "output_type": "stream",
     "text": [
      "Node c\n",
      "count: 1 | ans: c\n",
      "count: 2 | ans: a\n"
     ]
    },
    {
     "data": {
      "text/plain": [
       "2"
      ]
     },
     "execution_count": 178,
     "metadata": {},
     "output_type": "execute_result"
    }
   ],
   "source": [
    "ladderLength(\"a\", \"c\",  [\"a\",\"b\",\"c\"])"
   ]
  },
  {
   "cell_type": "code",
   "execution_count": 145,
   "metadata": {},
   "outputs": [],
   "source": [
    "import collections\n",
    "import string\n",
    "from typing import Set\n",
    "\n",
    "# Uses BFS to find the least steps of transformation.\n",
    "\n",
    "\n",
    "def transform_string(s: str, t: str, D: Set[str]) -> int:\n",
    "\n",
    "    StringWithDistance = collections.namedtuple('StringWithDistance',\n",
    "                                                ('candidate_string', 'distance'))\n",
    "    q = collections.deque([StringWithDistance(s, 0)])\n",
    "    D.remove(s)\n",
    "\n",
    "    while q:\n",
    "        f = q.popleft()\n",
    "        # Returns if we find a match.\n",
    "        if f.candidate_string == t:\n",
    "            return f.distance  # Number of steps reaches t.\n",
    "\n",
    "        # Trys all possible transformations of f.candidate_string.\n",
    "        for i in range(len(f.candidate_string)):\n",
    "            for c in string.ascii_lowercase:  # Iterates through 'a' ~ 'z'.\n",
    "                cand = f.candidate_string[:i] + c + f.candidate_string[i + 1:]\n",
    "                if cand in D:\n",
    "                    D.remove(cand)\n",
    "                    q.append(StringWithDistance(cand, f.distance + 1))\n",
    "    return -1  # Cannot find a possible transformations.\n",
    "\n",
    "\n",
    "def transform_string_pythonic(s, t, D):\n",
    "    if s == t:\n",
    "        return 0\n",
    "    length = 1\n",
    "    running = set([s])\n",
    "    while running:\n",
    "        running = D & set(cand[:i] + c + cand[i + 1:] for cand in running\n",
    "                          for i in range(len(cand))\n",
    "                          for c in string.ascii_lowercase)\n",
    "        if t in running:\n",
    "            return length\n",
    "        length += 1\n",
    "        D -= running\n",
    "    return 0\n"
   ]
  },
  {
   "cell_type": "code",
   "execution_count": 147,
   "metadata": {},
   "outputs": [
    {
     "data": {
      "text/plain": [
       "5"
      ]
     },
     "execution_count": 147,
     "metadata": {},
     "output_type": "execute_result"
    }
   ],
   "source": [
    "transform_string_pythonic(\"leet\", \"code\",  {\"lest\",\"leet\",\"lose\",\"code\",\"lode\",\"robe\",\"lost\"})"
   ]
  },
  {
   "cell_type": "code",
   "execution_count": null,
   "metadata": {},
   "outputs": [],
   "source": []
  },
  {
   "cell_type": "code",
   "execution_count": null,
   "metadata": {},
   "outputs": [],
   "source": []
  },
  {
   "cell_type": "code",
   "execution_count": 182,
   "metadata": {},
   "outputs": [
    {
     "ename": "TypeError",
     "evalue": "unsupported operand type(s) for ^: 'Counter' and 'Counter'",
     "output_type": "error",
     "traceback": [
      "\u001b[0;31m---------------------------------------------------------------------------\u001b[0m",
      "\u001b[0;31mTypeError\u001b[0m                                 Traceback (most recent call last)",
      "\u001b[0;32m<ipython-input-182-926a06e9340e>\u001b[0m in \u001b[0;36m<module>\u001b[0;34m\u001b[0m\n\u001b[1;32m      1\u001b[0m \u001b[0;32mfrom\u001b[0m \u001b[0mcollections\u001b[0m \u001b[0;32mimport\u001b[0m \u001b[0mCounter\u001b[0m\u001b[0;34m\u001b[0m\u001b[0;34m\u001b[0m\u001b[0m\n\u001b[0;32m----> 2\u001b[0;31m \u001b[0mCounter\u001b[0m\u001b[0;34m(\u001b[0m\u001b[0;34m\"heat\"\u001b[0m\u001b[0;34m)\u001b[0m \u001b[0;34m^\u001b[0m \u001b[0mCounter\u001b[0m\u001b[0;34m(\u001b[0m\u001b[0;34m\"hit\"\u001b[0m\u001b[0;34m)\u001b[0m\u001b[0;34m\u001b[0m\u001b[0;34m\u001b[0m\u001b[0m\n\u001b[0m",
      "\u001b[0;31mTypeError\u001b[0m: unsupported operand type(s) for ^: 'Counter' and 'Counter'"
     ]
    }
   ],
   "source": [
    "from collections import Counter\n",
    "Counter(\"heat\") ^ Counter(\"hit\")"
   ]
  },
  {
   "cell_type": "code",
   "execution_count": 184,
   "metadata": {},
   "outputs": [],
   "source": [
    "from itertools import zip_longest"
   ]
  },
  {
   "cell_type": "code",
   "execution_count": null,
   "metadata": {},
   "outputs": [],
   "source": []
  }
 ],
 "metadata": {
  "kernelspec": {
   "display_name": "Python 3",
   "language": "python",
   "name": "python3"
  },
  "language_info": {
   "codemirror_mode": {
    "name": "ipython",
    "version": 3
   },
   "file_extension": ".py",
   "mimetype": "text/x-python",
   "name": "python",
   "nbconvert_exporter": "python",
   "pygments_lexer": "ipython3",
   "version": "3.7.3"
  }
 },
 "nbformat": 4,
 "nbformat_minor": 2
}
