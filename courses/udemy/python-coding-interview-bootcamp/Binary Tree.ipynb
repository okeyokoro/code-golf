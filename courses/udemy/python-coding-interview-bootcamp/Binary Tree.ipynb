{
 "cells": [
  {
   "cell_type": "markdown",
   "metadata": {},
   "source": [
    "# FUNCTION IMPLEMENTATION"
   ]
  },
  {
   "cell_type": "code",
   "execution_count": 12,
   "metadata": {},
   "outputs": [],
   "source": [
    "def BinaryTree(r):\n",
    "    return [r, [], []]"
   ]
  },
  {
   "cell_type": "code",
   "execution_count": 13,
   "metadata": {},
   "outputs": [],
   "source": [
    "def insertLeft(root, newBranch):\n",
    "    t = root.pop(1) # remove element from position 1\n",
    "    \n",
    "    if len(t) > 1: # if there are two or more in the old left child\n",
    "        root.insert(1, [newBranch, t, []])\n",
    "    else:\n",
    "        root.insert(1, [newBranch, [], []])\n",
    "        \n",
    "    return root"
   ]
  },
  {
   "cell_type": "code",
   "execution_count": 27,
   "metadata": {},
   "outputs": [],
   "source": [
    "def insertRight(root, newBranch):\n",
    "    t = root.pop(2) # remove element from position 1\n",
    "    \n",
    "    if len(t) > 1: # if there are two or more in the old left child\n",
    "        root.insert(2, [newBranch, [], t])\n",
    "    else:\n",
    "        root.insert(2, [newBranch, [], []])\n",
    "        \n",
    "    return root"
   ]
  },
  {
   "cell_type": "code",
   "execution_count": 15,
   "metadata": {},
   "outputs": [],
   "source": [
    "def getRoot(root):\n",
    "    return root[0]"
   ]
  },
  {
   "cell_type": "code",
   "execution_count": 16,
   "metadata": {},
   "outputs": [],
   "source": [
    "def setRoot(root):\n",
    "    root[0] = root[1]"
   ]
  },
  {
   "cell_type": "code",
   "execution_count": 17,
   "metadata": {},
   "outputs": [],
   "source": [
    "def getLeftChild(root):\n",
    "    return root[1]"
   ]
  },
  {
   "cell_type": "code",
   "execution_count": 18,
   "metadata": {},
   "outputs": [],
   "source": [
    "def getRightChild(root):\n",
    "    return root[2]"
   ]
  },
  {
   "cell_type": "code",
   "execution_count": 22,
   "metadata": {},
   "outputs": [],
   "source": [
    "r = BinaryTree(3)"
   ]
  },
  {
   "cell_type": "code",
   "execution_count": 23,
   "metadata": {},
   "outputs": [
    {
     "name": "stdout",
     "output_type": "stream",
     "text": [
      "[3, [], []]\n"
     ]
    }
   ],
   "source": [
    "print(r)"
   ]
  },
  {
   "cell_type": "code",
   "execution_count": 24,
   "metadata": {},
   "outputs": [
    {
     "data": {
      "text/plain": [
       "[3, [], [4, [], []]]"
      ]
     },
     "execution_count": 24,
     "metadata": {},
     "output_type": "execute_result"
    }
   ],
   "source": [
    "insertLeft(r, 4)"
   ]
  },
  {
   "cell_type": "code",
   "execution_count": 25,
   "metadata": {},
   "outputs": [
    {
     "data": {
      "text/plain": [
       "[3, [], [5, [], [4, [], []]]]"
      ]
     },
     "execution_count": 25,
     "metadata": {},
     "output_type": "execute_result"
    }
   ],
   "source": [
    "insertLeft(r, 5)"
   ]
  },
  {
   "cell_type": "code",
   "execution_count": 28,
   "metadata": {},
   "outputs": [
    {
     "data": {
      "text/plain": [
       "[3, [], [6, [], [5, [], [4, [], []]]]]"
      ]
     },
     "execution_count": 28,
     "metadata": {},
     "output_type": "execute_result"
    }
   ],
   "source": [
    "insertRight(r, 6)"
   ]
  },
  {
   "cell_type": "markdown",
   "metadata": {},
   "source": [
    "# OOP IMPLEMENTATION"
   ]
  },
  {
   "cell_type": "code",
   "execution_count": 119,
   "metadata": {},
   "outputs": [],
   "source": [
    "class BinaryTree:\n",
    "    def __init__(self, root):\n",
    "        self.left = None\n",
    "        self.right = None\n",
    "        self.root = root\n",
    "        \n",
    "    def insertLeft(self, newNode): # newNode is just the root element of the new SubTree\n",
    "        \n",
    "        t = BinaryTree(newNode)\n",
    "        \n",
    "        if type(newNode) == type(t):\n",
    "            # if it is a binary tree. meaning this function can take in binary trees as inputs\n",
    "            if self.left is None:\n",
    "                self.left = newNode\n",
    "\n",
    "            else:\n",
    "                newNode.left = self.left # put existing left child as the left child in da new SubTree\n",
    "                self.left = newNode      # finally, set new left child\n",
    "                \n",
    "        else:\n",
    "            # newNode is not a BinaryTree\n",
    "            if self.left is None:\n",
    "                self.left = t\n",
    "            else:\n",
    "                t.left = self.left\n",
    "                self.left = t\n",
    "    \n",
    "    def insertRight(self, newNode):\n",
    "        \n",
    "        t = BinaryTree(newNode)\n",
    "        \n",
    "        if type(newNode) == type(t):\n",
    "            # if it is a binary tree\n",
    "            if self.right is None:\n",
    "                self.right = newNode\n",
    "\n",
    "            else:\n",
    "                newNode.right = self.right # put existing left child as the left child in da new SubTree\n",
    "                self.right = newNode      # finally, set new left child\n",
    "                \n",
    "        else:\n",
    "            # newNode is not a BinaryTree\n",
    "            if self.right is None:\n",
    "                self.right = t\n",
    "            else:\n",
    "                t.right = self.right\n",
    "                self.right = t\n",
    "            \n",
    "    def getRoot(self):\n",
    "        return self.root\n",
    "    \n",
    "    def getRightChild(self):\n",
    "        return self.right\n",
    "    \n",
    "    def getLeftChild(self):\n",
    "        return self.left\n",
    "        \n",
    "    def setRoot(self, newRoot):\n",
    "        self.root = newRoot\n",
    "    \n",
    "    def preorder_traversal(self, level, arr):\n",
    "        arr.append((self.getRoot(), level))\n",
    "        if self.left:\n",
    "            self.left.preorder_traversal(level + 1, arr)\n",
    "        if self.right:\n",
    "            self.right.preorder_traversal(level + 1, arr)\n",
    "\n",
    "    def getRep(self):\n",
    "        \n",
    "        dic = {}\n",
    "        arr = []\n",
    "        ans = \"\"\n",
    "        \n",
    "        self.preorder_traversal(0, arr)\n",
    "        \n",
    "        for num, lvl in arr:\n",
    "            if dic.get(lvl, None) is None:\n",
    "                dic[lvl] = [num]\n",
    "            else:\n",
    "                dic[lvl].append(num)\n",
    "                \n",
    "        width = dic[0][0]*2\n",
    "\n",
    "        for n in dic.keys():\n",
    "            joiner = \" \"*(list(reversed(list(dic.keys())))[n] + 1)\n",
    "            str1 = joiner.join([n for n in map(lambda x: str(x), dic[n])])\n",
    "            str2 = str1.center(width)\n",
    "            ans = \"\\n\".join([ans, str2])\n",
    "            \n",
    "        print(ans)\n",
    "    "
   ]
  },
  {
   "cell_type": "code",
   "execution_count": 120,
   "metadata": {},
   "outputs": [],
   "source": [
    "bin = BinaryTree(1)"
   ]
  },
  {
   "cell_type": "code",
   "execution_count": 121,
   "metadata": {},
   "outputs": [
    {
     "name": "stdout",
     "output_type": "stream",
     "text": [
      "1\n"
     ]
    }
   ],
   "source": [
    "print(bin.root)"
   ]
  },
  {
   "cell_type": "code",
   "execution_count": 122,
   "metadata": {},
   "outputs": [],
   "source": [
    "bin.insertLeft(2)"
   ]
  },
  {
   "cell_type": "code",
   "execution_count": 123,
   "metadata": {},
   "outputs": [
    {
     "name": "stdout",
     "output_type": "stream",
     "text": [
      "<__main__.BinaryTree object at 0x0000017F8D17E9E8>\n"
     ]
    }
   ],
   "source": [
    "print(bin.getLeftChild())"
   ]
  },
  {
   "cell_type": "code",
   "execution_count": 124,
   "metadata": {},
   "outputs": [],
   "source": [
    "bin.insertRight(1000)"
   ]
  },
  {
   "cell_type": "code",
   "execution_count": 125,
   "metadata": {},
   "outputs": [],
   "source": [
    "h = bin.getRightChild()"
   ]
  },
  {
   "cell_type": "code",
   "execution_count": 126,
   "metadata": {},
   "outputs": [
    {
     "name": "stdout",
     "output_type": "stream",
     "text": [
      "1000\n"
     ]
    }
   ],
   "source": [
    "print(h.getRoot())"
   ]
  },
  {
   "cell_type": "code",
   "execution_count": 127,
   "metadata": {},
   "outputs": [
    {
     "name": "stdout",
     "output_type": "stream",
     "text": [
      "\n",
      "1 \n",
      "2 1000\n"
     ]
    }
   ],
   "source": [
    "bin.getRep()"
   ]
  },
  {
   "cell_type": "markdown",
   "metadata": {},
   "source": [
    "GOOGLE FOO.BAR QUESTION 2\n",
    "===========================\n",
    "\n",
    "Ion Flux Relabeling\n",
    "===================\n",
    "\n",
    "Oh no! Commander Lambda's latest experiment to improve the efficiency of her LAMBCHOP doomsday device has backfired spectacularly. She had been improving the structure of the ion flux converter tree, but something went terribly wrong and the flux chains exploded. Some of the ion flux converters survived the explosion intact, but others had their position labels blasted off. She's having her henchmen rebuild the ion flux converter tree by hand, but you think you can do it much more quickly - quickly enough, perhaps, to earn a promotion!\n",
    "\n",
    "Flux chains require perfect binary trees, so Lambda's design arranged the ion flux converters to form one. To label them, she performed a post-order traversal of the tree of converters and labeled each converter with the order of that converter in the traversal, starting at 1. For example, a tree of 7 converters would look like the following:\n",
    "\n",
    "   7\n",
    " 3   6\n",
    "1 2 4 5\n",
    "\n",
    "Write a function answer(h, q) - where h is the height of the perfect tree of converters and q is a list of positive integers representing different flux converters - which returns a list of integers p where each element in p is the label of the converter that sits on top of the respective converter in q, or -1 if there is no such converter.  For example, answer(3, [1, 4, 7]) would return the converters above the converters at indexes 1, 4, and 7 in a perfect binary tree of height 3, which is [3, 6, -1].\n",
    "\n",
    "The domain of the integer h is 1 <= h <= 30, where h = 1 represents a perfect binary tree containing only the root, h = 2 represents a perfect binary tree with the root and two leaf nodes, h = 3 represents a perfect binary tree with the root, two internal nodes and four leaf nodes (like the example above), and so forth.  The lists q and p contain at least one but no more than 10000 distinct integers, all of which will be between 1 and 2^h-1, inclusive.\n",
    "\n",
    "Languages\n",
    "=========\n",
    "\n",
    "To provide a Python solution, edit solution.py\n",
    "To provide a Java solution, edit solution.java\n",
    "\n",
    "Test cases\n",
    "==========\n",
    "\n",
    "Inputs:\n",
    "    (int) h = 3\n",
    "    (int list) q = [7, 3, 5, 1]\n",
    "Output:\n",
    "    (int list) [-1, 7, 6, 3]\n",
    "\n",
    "Inputs:\n",
    "    (int) h = 5\n",
    "    (int list) q = [19, 14, 28]\n",
    "Output:\n",
    "    (int list) [21, 15, 29]\n",
    "\n",
    "Use verify [file] to test your solution and see how it does. When you are finished editing your code, use submit [file] to submit your answer. If your solution passes the test cases, it will be removed from your home folder."
   ]
  },
  {
   "cell_type": "code",
   "execution_count": 128,
   "metadata": {},
   "outputs": [],
   "source": [
    "def buildtree(lst):\n",
    "    \n",
    "    tree = BinaryTree(lst[-1])\n",
    "    if len(lst) > 1:\n",
    "        tree.insertLeft(buildtree(lst[:len(lst)//2]))\n",
    "        tree.insertRight(buildtree(lst[len(lst)//2:-1]))\n",
    "    return tree\n",
    "\n",
    "def PerfectBinaryTree(height):\n",
    "    \n",
    "    max_elem = 0\n",
    "    \n",
    "    for n in range(height):\n",
    "        max_elem += 2**n\n",
    "\n",
    "    arr = list(range(max_elem + 1))[1:]\n",
    "    \n",
    "    tr = buildtree(arr)\n",
    "    \n",
    "    return tr\n",
    "\n",
    "def answer(h, arr):\n",
    "    tree = PerfectBinaryTree(h)\n",
    "    ans = []\n",
    "    for n in arr:\n",
    "        ans.append(tree.findParent(n))"
   ]
  },
  {
   "cell_type": "code",
   "execution_count": 133,
   "metadata": {},
   "outputs": [],
   "source": [
    "tree = PerfectBinaryTree(5)"
   ]
  },
  {
   "cell_type": "code",
   "execution_count": 134,
   "metadata": {},
   "outputs": [
    {
     "name": "stdout",
     "output_type": "stream",
     "text": [
      "\n",
      "                              31                              \n",
      "                           15    30                           \n",
      "                       7   14   22   29                       \n",
      "                 3  6  10  13  18  21  25  28                 \n",
      "          1 2 4 5 8 9 11 12 16 17 19 20 23 24 26 27           \n"
     ]
    }
   ],
   "source": [
    "tree.getRep()"
   ]
  },
  {
   "cell_type": "code",
   "execution_count": 79,
   "metadata": {},
   "outputs": [],
   "source": [
    "def fib(n):\n",
    "    a, b = 0,1\n",
    "    lst = [0]\n",
    "    while len(lst) < n:\n",
    "        lst.append(b)\n",
    "        a,b = b, a+b\n",
    "    return lst"
   ]
  },
  {
   "cell_type": "code",
   "execution_count": 296,
   "metadata": {},
   "outputs": [],
   "source": [
    "def factorial(n):\n",
    "    if n==1:\n",
    "        return 1\n",
    "    return n * factorial(n-1)"
   ]
  },
  {
   "cell_type": "code",
   "execution_count": null,
   "metadata": {},
   "outputs": [],
   "source": []
  }
 ],
 "metadata": {
  "kernelspec": {
   "display_name": "Python 3",
   "language": "python",
   "name": "python3"
  },
  "language_info": {
   "codemirror_mode": {
    "name": "ipython",
    "version": 3
   },
   "file_extension": ".py",
   "mimetype": "text/x-python",
   "name": "python",
   "nbconvert_exporter": "python",
   "pygments_lexer": "ipython3",
   "version": "3.7.1"
  }
 },
 "nbformat": 4,
 "nbformat_minor": 2
}
